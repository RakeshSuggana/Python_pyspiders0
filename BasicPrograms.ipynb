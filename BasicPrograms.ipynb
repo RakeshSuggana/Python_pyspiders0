{
 "cells": [
  {
   "cell_type": "code",
   "execution_count": 2,
   "metadata": {},
   "outputs": [
    {
     "data": {
      "text/plain": [
       "'hello world'"
      ]
     },
     "execution_count": 2,
     "metadata": {},
     "output_type": "execute_result"
    }
   ],
   "source": [
    "#1. WAS (write a statement) to print hello world! not using print.\n",
    "a= \"hello world\"\n",
    "a"
   ]
  },
  {
   "cell_type": "code",
   "execution_count": 1,
   "metadata": {},
   "outputs": [
    {
     "name": "stdout",
     "output_type": "stream",
     "text": [
      "Hello world!\n"
     ]
    }
   ],
   "source": [
    "#2. WAS (write a statement) to print hello world!\n",
    "print(\"Hello world!\")"
   ]
  },
  {
   "cell_type": "code",
   "execution_count": 1,
   "metadata": {},
   "outputs": [],
   "source": [
    "#3. To initialize value to the variable.\n",
    "a = 6"
   ]
  },
  {
   "cell_type": "code",
   "execution_count": 2,
   "metadata": {},
   "outputs": [],
   "source": [
    "#4. WAS to initialize multivariable, values are 150,120,250 (take your own variable names).\n",
    "a,b,c=150,120,250"
   ]
  },
  {
   "cell_type": "code",
   "execution_count": 3,
   "metadata": {},
   "outputs": [
    {
     "name": "stdout",
     "output_type": "stream",
     "text": [
      "<class 'complex'>\n"
     ]
    }
   ],
   "source": [
    "#5. WAS to print the type of the data in given value.\n",
    "a = 10+15j\n",
    "print(type(a))"
   ]
  },
  {
   "cell_type": "code",
   "execution_count": 4,
   "metadata": {},
   "outputs": [
    {
     "name": "stdout",
     "output_type": "stream",
     "text": [
      "1750769858064\n"
     ]
    }
   ],
   "source": [
    "#6. WAS to print the address of the memory block in given value.\n",
    "a = 10+15j\n",
    "print(id(a))"
   ]
  },
  {
   "cell_type": "code",
   "execution_count": 19,
   "metadata": {},
   "outputs": [
    {
     "name": "stdout",
     "output_type": "stream",
     "text": [
      "Rakesh Suggana Student 123456789\n"
     ]
    }
   ],
   "source": [
    "#7. WAS to print your details, first store your details, extract the values and display it\n",
    "a=\"Rakesh Suggana\"\n",
    "b= \"Student\"\n",
    "c= 123456789\n",
    "print(a,b,c)"
   ]
  },
  {
   "cell_type": "code",
   "execution_count": 28,
   "metadata": {},
   "outputs": [
    {
     "name": "stdout",
     "output_type": "stream",
     "text": [
      "200\n",
      "100\n"
     ]
    }
   ],
   "source": [
    "#8. WAS to swap the two values. With a temp variable.\n",
    "a = 100\n",
    "b = 200\n",
    "n = a\n",
    "a = b\n",
    "b= n\n",
    "print(a)\n",
    "print(b)"
   ]
  },
  {
   "cell_type": "code",
   "execution_count": 30,
   "metadata": {},
   "outputs": [
    {
     "name": "stdout",
     "output_type": "stream",
     "text": [
      "200 100\n"
     ]
    }
   ],
   "source": [
    "#9. WAS to swap the two values without temp variable.\n",
    "a = 100\n",
    "b = 200\n",
    "a,b = b,a\n",
    "print(a,b)"
   ]
  },
  {
   "cell_type": "code",
   "execution_count": 32,
   "metadata": {},
   "outputs": [
    {
     "name": "stdout",
     "output_type": "stream",
     "text": [
      "100\n",
      "500\n"
     ]
    }
   ],
   "source": [
    "#10. WAS to initialize a value and print the value, after print the value, then reinitialize.\n",
    "a = 100\n",
    "#initialization\n",
    "print(a)\n",
    "a = 500\n",
    "#Re- Initialization\n",
    "print(a)"
   ]
  },
  {
   "cell_type": "code",
   "execution_count": 6,
   "metadata": {},
   "outputs": [
    {
     "data": {
      "text/plain": [
       "['1', '0']"
      ]
     },
     "execution_count": 6,
     "metadata": {},
     "output_type": "execute_result"
    }
   ],
   "source": [
    "#11. WAS to convert single to multi value data type I/p=10 O/p = ['1', '0'].\n",
    "n = 10\n",
    "n = str(n)\n",
    "list(n)\n"
   ]
  },
  {
   "cell_type": "code",
   "execution_count": 13,
   "metadata": {},
   "outputs": [
    {
     "data": {
      "text/plain": [
       "[1, 2, 3, 4, 5, 6, 7, 8, 9]"
      ]
     },
     "execution_count": 13,
     "metadata": {},
     "output_type": "execute_result"
    }
   ],
   "source": [
    "#12 WAS to concat the two multi value data types(str, list, tuple, set, dict).\n",
    "n = [1,2,3,4,5]\n",
    "n+=(6,7,8,9)\n",
    "n\n"
   ]
  },
  {
   "cell_type": "code",
   "execution_count": 22,
   "metadata": {},
   "outputs": [
    {
     "data": {
      "text/plain": [
       "5"
      ]
     },
     "execution_count": 22,
     "metadata": {},
     "output_type": "execute_result"
    }
   ],
   "source": [
    "#13. WAE to check perform the length of the collection.\n",
    "lst = [1,2,3,4,5]\n",
    "len(lst)"
   ]
  },
  {
   "cell_type": "code",
   "execution_count": 29,
   "metadata": {},
   "outputs": [
    {
     "data": {
      "text/plain": [
       "3"
      ]
     },
     "execution_count": 29,
     "metadata": {},
     "output_type": "execute_result"
    }
   ],
   "source": [
    "#14. WAE to check find out the middle value of the given collection.\n",
    "lst = [1,2,3,4,5,6]\n",
    "len(lst)//2"
   ]
  },
  {
   "cell_type": "code",
   "execution_count": 39,
   "metadata": {},
   "outputs": [
    {
     "data": {
      "text/plain": [
       "'NewStringGivenString'"
      ]
     },
     "execution_count": 39,
     "metadata": {},
     "output_type": "execute_result"
    }
   ],
   "source": [
    "#15. WAS to concat the new string into the starting of the given string.\n",
    "g = \"GivenString\"\n",
    "n = \"NewString\"\n",
    "n+g\n"
   ]
  },
  {
   "cell_type": "code",
   "execution_count": 41,
   "metadata": {},
   "outputs": [
    {
     "data": {
      "text/plain": [
       "'GivenStringNewString'"
      ]
     },
     "execution_count": 41,
     "metadata": {},
     "output_type": "execute_result"
    }
   ],
   "source": [
    "#16. WAS to concat the new string into the ending of the given string.\n",
    "g = \"GivenString\"\n",
    "n = \"NewString\"\n",
    "g+n"
   ]
  },
  {
   "cell_type": "code",
   "execution_count": 51,
   "metadata": {},
   "outputs": [
    {
     "data": {
      "text/plain": [
       "'GivenGGGString'"
      ]
     },
     "execution_count": 51,
     "metadata": {},
     "output_type": "execute_result"
    }
   ],
   "source": [
    "#17. WAS to concat the new string into the middle of the given string.\n",
    "g = \"GivenString\"\n",
    "n = \"GGG\"\n",
    "len(g)//2\n",
    "g[0:5:1] + n + g[5::]"
   ]
  },
  {
   "cell_type": "code",
   "execution_count": 56,
   "metadata": {},
   "outputs": [
    {
     "data": {
      "text/plain": [
       "'Given$tring'"
      ]
     },
     "execution_count": 56,
     "metadata": {},
     "output_type": "execute_result"
    }
   ],
   "source": [
    "#18. WAS to modify the new character into the middle of the given string.\n",
    "g = \"Givenrtring\"\n",
    "g[:5:] + '$' + g[6::]\n"
   ]
  },
  {
   "cell_type": "code",
   "execution_count": 76,
   "metadata": {},
   "outputs": [
    {
     "data": {
      "text/plain": [
       "'GivenRING'"
      ]
     },
     "execution_count": 76,
     "metadata": {},
     "output_type": "execute_result"
    }
   ],
   "source": [
    "#19. WAS to modify the sequence of characters in given string.\n",
    "g = \"Givenrtring\"\n",
    "g[0:5:1] + 'RING' + g[5:5:1]\n"
   ]
  },
  {
   "cell_type": "code",
   "execution_count": 77,
   "metadata": {},
   "outputs": [
    {
     "data": {
      "text/plain": [
       "'pytrhon'"
      ]
     },
     "execution_count": 77,
     "metadata": {},
     "output_type": "execute_result"
    }
   ],
   "source": [
    "#20. WAS to replace the old character into a new character of the given string.\n",
    "n = \"python\"\n",
    "n[:2:1]+ \"tr\"+n [3::]"
   ]
  },
  {
   "cell_type": "code",
   "execution_count": 5,
   "metadata": {},
   "outputs": [
    {
     "data": {
      "text/plain": [
       "'RakeshSuggana'"
      ]
     },
     "execution_count": 5,
     "metadata": {},
     "output_type": "execute_result"
    }
   ],
   "source": [
    "#21. WAS to delete the specific character in the given string.\n",
    "str = \"Rakesh_Suggana\"\n",
    "str[:6:1] + str[7::]"
   ]
  },
  {
   "cell_type": "code",
   "execution_count": 18,
   "metadata": {},
   "outputs": [
    {
     "data": {
      "text/plain": [
       "'Rakesh'"
      ]
     },
     "execution_count": 18,
     "metadata": {},
     "output_type": "execute_result"
    }
   ],
   "source": [
    "#22. WAS to delete the sequence of characters in the given string.\n",
    "str1 = \"Rakesh_Suggana\"\n",
    "str[0:6:1] + str[14::1]\n"
   ]
  },
  {
   "cell_type": "code",
   "execution_count": 7,
   "metadata": {},
   "outputs": [
    {
     "data": {
      "text/plain": [
       "'Rakesh'"
      ]
     },
     "execution_count": 7,
     "metadata": {},
     "output_type": "execute_result"
    }
   ],
   "source": [
    "#23. WAS to concat the new string into the specific position of the given string.\n",
    "g =  \"Rakh\"\n",
    "n = \"es\"\n",
    "g[0:3:1] + n[::] + g[3::]"
   ]
  },
  {
   "cell_type": "code",
   "execution_count": 21,
   "metadata": {},
   "outputs": [
    {
     "data": {
      "text/plain": [
       "['Suggana', 'Rakesh', 1, 'cool']"
      ]
     },
     "execution_count": 21,
     "metadata": {},
     "output_type": "execute_result"
    }
   ],
   "source": [
    "#24. WAS to concat the new value into the starting of the given list.\n",
    "n = [\"Rakesh\", 1, \"cool\"]\n",
    "a = [\"Suggana\"]\n",
    "a + n\n"
   ]
  },
  {
   "cell_type": "code",
   "execution_count": 18,
   "metadata": {},
   "outputs": [
    {
     "data": {
      "text/plain": [
       "['Rakesh', 1, 'cool', 'Suggana']"
      ]
     },
     "execution_count": 18,
     "metadata": {},
     "output_type": "execute_result"
    }
   ],
   "source": [
    "#25. WAS to concat the new value into the ending of the given list.\n",
    "n = [\"Rakesh\", 1, \"cool\"]\n",
    "n+= [\"Suggana\"]\n",
    "n"
   ]
  },
  {
   "cell_type": "code",
   "execution_count": 28,
   "metadata": {},
   "outputs": [
    {
     "data": {
      "text/plain": [
       "['Rakesh', 'Suggana', 1, 'cool']"
      ]
     },
     "execution_count": 28,
     "metadata": {},
     "output_type": "execute_result"
    }
   ],
   "source": [
    "#26. WAS to concat the new value into the middle of the given list.\n",
    "n = [\"Rakesh\", 1, \"cool\"]\n",
    "len(n)//2\n",
    "n[0:1:1]+ [\"Suggana\"] + n[1::]\n"
   ]
  },
  {
   "cell_type": "code",
   "execution_count": 49,
   "metadata": {},
   "outputs": [
    {
     "data": {
      "text/plain": [
       "['Rakesh', 1, '2', 'cool', 'smooth']"
      ]
     },
     "execution_count": 49,
     "metadata": {},
     "output_type": "execute_result"
    }
   ],
   "source": [
    "#27. WAS to concat the new value into the specific position of the given list.\n",
    "n = [\"Rakesh\", 1, \"cool\", \"smooth\"]\n",
    "n[0:2:1] + [\"2\"] + n[2::1]"
   ]
  },
  {
   "cell_type": "code",
   "execution_count": 33,
   "metadata": {},
   "outputs": [
    {
     "data": {
      "text/plain": [
       "['Rakesh', 'lala', 'cool']"
      ]
     },
     "execution_count": 33,
     "metadata": {},
     "output_type": "execute_result"
    }
   ],
   "source": [
    "#28. WAS to modify the new value into the specific position of the given list.\n",
    "n = [\"Rakesh\", 1, \"cool\"]\n",
    "n[1]= \"lala\"\n",
    "n\n"
   ]
  },
  {
   "cell_type": "code",
   "execution_count": 51,
   "metadata": {},
   "outputs": [
    {
     "data": {
      "text/plain": [
       "['Smile', 1, 'cool']"
      ]
     },
     "execution_count": 51,
     "metadata": {},
     "output_type": "execute_result"
    }
   ],
   "source": [
    "#29. WAS to modify the new value into the starting of the given list.\n",
    "n = [\"Rakesh\", 1, \"cool\"]\n",
    "n[0] = \"Smile\"\n",
    "n"
   ]
  },
  {
   "cell_type": "code",
   "execution_count": 52,
   "metadata": {},
   "outputs": [
    {
     "data": {
      "text/plain": [
       "['Rakesh', 1, 'Nice']"
      ]
     },
     "execution_count": 52,
     "metadata": {},
     "output_type": "execute_result"
    }
   ],
   "source": [
    "#30. WAS to modify the new value into the ending of the given list.\n",
    "n = [\"Rakesh\", 1, \"cool\"]\n",
    "n[-1]= \"Nice\"\n",
    "n"
   ]
  },
  {
   "cell_type": "code",
   "execution_count": 54,
   "metadata": {},
   "outputs": [
    {
     "data": {
      "text/plain": [
       "['Rakesh', 'Middle', 'cool']"
      ]
     },
     "execution_count": 54,
     "metadata": {},
     "output_type": "execute_result"
    }
   ],
   "source": [
    "#31. WAS to modify the new value into the middle of the given list.\n",
    "n = [\"Rakesh\", 1, \"cool\"]\n",
    "n[len(n)//2]= \"Middle\"\n",
    "n"
   ]
  },
  {
   "cell_type": "code",
   "execution_count": 56,
   "metadata": {},
   "outputs": [
    {
     "data": {
      "text/plain": [
       "[10, 20, 30, 40, 5, 6, 7, 8, 9]"
      ]
     },
     "execution_count": 56,
     "metadata": {},
     "output_type": "execute_result"
    }
   ],
   "source": [
    "#32. WAS to modify the starting 4 positions values into a given list.\n",
    "s = [1,2,3,4,5,6,7,8,9]\n",
    "s[:4:]= [10,20,30,40]\n",
    "s"
   ]
  },
  {
   "cell_type": "code",
   "execution_count": 60,
   "metadata": {},
   "outputs": [
    {
     "data": {
      "text/plain": [
       "[1, 2, 10, 20, 30, 40, 7, 8, 9]"
      ]
     },
     "execution_count": 60,
     "metadata": {},
     "output_type": "execute_result"
    }
   ],
   "source": [
    "#33. WAS to modify the sequence of values into a given list.\n",
    "s = [1,2,3,4,5,6,7,8,9]\n",
    "s[2:6:1] = [10,20,30,40]\n",
    "s"
   ]
  },
  {
   "cell_type": "code",
   "execution_count": 11,
   "metadata": {},
   "outputs": [
    {
     "data": {
      "text/plain": [
       "[1, 3, 5]"
      ]
     },
     "execution_count": 11,
     "metadata": {},
     "output_type": "execute_result"
    }
   ],
   "source": [
    "#34. WAS to delete the value in the specific position of the given list.\n",
    "l = [1,2,3,4,5]\n",
    "del l[3], l[1]\n",
    "l"
   ]
  },
  {
   "cell_type": "code",
   "execution_count": 13,
   "metadata": {},
   "outputs": [
    {
     "name": "stdout",
     "output_type": "stream",
     "text": [
      "[1, 2, 3, 4]\n"
     ]
    }
   ],
   "source": [
    "#35. WAS to delete the value into the ending of the list.\n",
    "l = [1,2,3,4,5]\n",
    "del l[4]\n",
    "print(l)"
   ]
  },
  {
   "cell_type": "code",
   "execution_count": 15,
   "metadata": {},
   "outputs": [
    {
     "name": "stdout",
     "output_type": "stream",
     "text": [
      "[2, 3, 4, 5]\n"
     ]
    }
   ],
   "source": [
    "#36. WAS to delete value into the starting of the list.\n",
    "l = [1,2,3,4,5]\n",
    "del l[0]\n",
    "print(l)"
   ]
  },
  {
   "cell_type": "code",
   "execution_count": 17,
   "metadata": {},
   "outputs": [
    {
     "name": "stdout",
     "output_type": "stream",
     "text": [
      "[1, 2, 3, 'colour']\n"
     ]
    }
   ],
   "source": [
    "#37. WAS to delete the value into the middle of the list.\n",
    "l = [1,2,3,\"str\", \"colour\"]\n",
    "del l[3]\n",
    "print(l)"
   ]
  },
  {
   "cell_type": "code",
   "execution_count": 19,
   "metadata": {},
   "outputs": [
    {
     "data": {
      "text/plain": [
       "(5, 6, 7, 8, 9, 1, 2, 3, 4, 5)"
      ]
     },
     "execution_count": 19,
     "metadata": {},
     "output_type": "execute_result"
    }
   ],
   "source": [
    "#38. WAS to concat the value into starting of the tuple.\n",
    "t = (1,2,3,4,5)\n",
    "(5,6,7,8,9) + t"
   ]
  },
  {
   "cell_type": "code",
   "execution_count": 77,
   "metadata": {},
   "outputs": [
    {
     "data": {
      "text/plain": [
       "(1, 2, 'r', 3, 4, 5)"
      ]
     },
     "execution_count": 77,
     "metadata": {},
     "output_type": "execute_result"
    }
   ],
   "source": [
    "#39. WAS to concat the value into the middle of the tuple.\n",
    "t = (1,2,3,4,5)\n",
    "t = t[:2:1] + (\"r\",)+ t[2::1]\n",
    "t"
   ]
  },
  {
   "cell_type": "code",
   "execution_count": 80,
   "metadata": {},
   "outputs": [
    {
     "data": {
      "text/plain": [
       "(1, 2, 3, 4, 5, 8, 9, 0)"
      ]
     },
     "execution_count": 80,
     "metadata": {},
     "output_type": "execute_result"
    }
   ],
   "source": [
    "#40. WAS to concat the value into the ending of the tuple.\n",
    "t = (1,2,3,4,5)\n",
    "t = t[::] + (8,9,0)\n",
    "t\n"
   ]
  },
  {
   "cell_type": "code",
   "execution_count": 83,
   "metadata": {},
   "outputs": [
    {
     "data": {
      "text/plain": [
       "(10, 20, 3, 4, 5)"
      ]
     },
     "execution_count": 83,
     "metadata": {},
     "output_type": "execute_result"
    }
   ],
   "source": [
    "#41. WAS to modify the sequence of values in given tuple.\n",
    "t = (1,2,3,4,5)\n",
    "(10,20) +  t[2::1]"
   ]
  },
  {
   "cell_type": "code",
   "execution_count": 85,
   "metadata": {},
   "outputs": [
    {
     "data": {
      "text/plain": [
       "(3, 4, 5)"
      ]
     },
     "execution_count": 85,
     "metadata": {},
     "output_type": "execute_result"
    }
   ],
   "source": [
    "#42. WAS to delete the sequence of values in given tuple.\n",
    "t = (1,2,3,4,5)\n",
    "t[2::1]"
   ]
  },
  {
   "cell_type": "code",
   "execution_count": 92,
   "metadata": {},
   "outputs": [
    {
     "data": {
      "text/plain": [
       "{1, 2, 3, 4, 5, 10, 20}"
      ]
     },
     "execution_count": 92,
     "metadata": {},
     "output_type": "execute_result"
    }
   ],
   "source": [
    "#43. WAS to concat the new value into the set.\n",
    "s = {1,2,3,4,5}\n",
    "s|{10,20}"
   ]
  },
  {
   "cell_type": "code",
   "execution_count": 98,
   "metadata": {},
   "outputs": [
    {
     "name": "stdout",
     "output_type": "stream",
     "text": [
      "{1, 2, 4, 5}\n"
     ]
    }
   ],
   "source": [
    "#44. WAS to delete the specific value in the set.\n",
    "s = {1,2,3,4,5}\n",
    "l = list(s)\n",
    "del l[2]\n",
    "s= set(l)\n",
    "print(s)"
   ]
  },
  {
   "cell_type": "code",
   "execution_count": 100,
   "metadata": {},
   "outputs": [
    {
     "data": {
      "text/plain": [
       "{1: 'Good', 2: 'Cool', 3: 'Nice', 5: 'Epic'}"
      ]
     },
     "execution_count": 100,
     "metadata": {},
     "output_type": "execute_result"
    }
   ],
   "source": [
    "#45. WAS to concat the new key and value into the dict.\n",
    "d = {1:\"Good\",2:\"Cool\",3:\"Nice\"}\n",
    "d[5]=\"Epic\"\n",
    "d"
   ]
  },
  {
   "cell_type": "code",
   "execution_count": 103,
   "metadata": {},
   "outputs": [
    {
     "data": {
      "text/plain": [
       "{1: 'Good', 2: 'Cool'}"
      ]
     },
     "execution_count": 103,
     "metadata": {},
     "output_type": "execute_result"
    }
   ],
   "source": [
    "#46. WAS to delete the specific key and value in the given dict.\n",
    "d = {1:\"Good\",2:\"Cool\",3:\"Nice\"}\n",
    "del d[3]\n",
    "d"
   ]
  },
  {
   "cell_type": "code",
   "execution_count": 116,
   "metadata": {},
   "outputs": [
    {
     "data": {
      "text/plain": [
       "{1: 'Good', 2: ('lie', 600), 3: 'Nice'}"
      ]
     },
     "execution_count": 116,
     "metadata": {},
     "output_type": "execute_result"
    }
   ],
   "source": [
    "#47. WAS to modify the specific value in the given dict.\n",
    "d = {1:\"Good\",2:\"Cool\",3:\"Nice\"}\n",
    "d[2]= \"lie\", 600\n",
    "d"
   ]
  },
  {
   "cell_type": "code",
   "execution_count": 118,
   "metadata": {},
   "outputs": [
    {
     "data": {
      "text/plain": [
       "(1, 2, 3, 4, 5, 6, 7, 8, 9)"
      ]
     },
     "execution_count": 118,
     "metadata": {},
     "output_type": "execute_result"
    }
   ],
   "source": [
    "#48. WAS to concat the list and tuple values by using type casting.\n",
    "l = [1,2,3,4,5]\n",
    "t = (6,7,8,9)\n",
    "tuple(l)+ t"
   ]
  },
  {
   "cell_type": "code",
   "execution_count": 129,
   "metadata": {},
   "outputs": [
    {
     "data": {
      "text/plain": [
       "[1, 2, 3, 4, 5, 6, 7, 8, 9]"
      ]
     },
     "execution_count": 129,
     "metadata": {},
     "output_type": "execute_result"
    }
   ],
   "source": [
    "#49. WAS to concat the list value and tuple value without using type casting.\n",
    "l = [1,2,3,4,5]\n",
    "l+=(6,7,8,9)\n",
    "l\n"
   ]
  },
  {
   "cell_type": "code",
   "execution_count": 130,
   "metadata": {},
   "outputs": [
    {
     "data": {
      "text/plain": [
       "True"
      ]
     },
     "execution_count": 130,
     "metadata": {},
     "output_type": "execute_result"
    }
   ],
   "source": [
    "#50. WAE to check the given number is divisible by 3.\n",
    "n = 3\n",
    "n%3==0"
   ]
  },
  {
   "cell_type": "code",
   "execution_count": 1,
   "metadata": {},
   "outputs": [
    {
     "data": {
      "text/plain": [
       "True"
      ]
     },
     "execution_count": 1,
     "metadata": {},
     "output_type": "execute_result"
    }
   ],
   "source": [
    "#51. WAE to check the given number is divisible by 2 and 6.\n",
    "n = eval(input(\":\"))\n",
    "n%2==0 and n%6==0"
   ]
  },
  {
   "cell_type": "code",
   "execution_count": 4,
   "metadata": {},
   "outputs": [
    {
     "data": {
      "text/plain": [
       "3"
      ]
     },
     "execution_count": 4,
     "metadata": {},
     "output_type": "execute_result"
    }
   ],
   "source": [
    "#52. WAE to extract the last digit in given integer number. (without typecasting)\n",
    "n = 123\n",
    "n%10"
   ]
  },
  {
   "cell_type": "code",
   "execution_count": 8,
   "metadata": {},
   "outputs": [
    {
     "data": {
      "text/plain": [
       "True"
      ]
     },
     "execution_count": 8,
     "metadata": {},
     "output_type": "execute_result"
    }
   ],
   "source": [
    "#53. WAE to check the last digit is divisible by 3 from given integer number. (without typecasting)\n",
    "n = 129\n",
    "(n%10)%3==0"
   ]
  },
  {
   "cell_type": "code",
   "execution_count": 36,
   "metadata": {},
   "outputs": [
    {
     "data": {
      "text/plain": [
       "True"
      ]
     },
     "execution_count": 36,
     "metadata": {},
     "output_type": "execute_result"
    }
   ],
   "source": [
    "#54. WAE to check the last digit is divisible by 3 from given integer number. (with typecasting)\n",
    "n = 259\n",
    "n = str(n)\n",
    "(int(n[-1]))%3==0\n"
   ]
  },
  {
   "cell_type": "code",
   "execution_count": 39,
   "metadata": {},
   "outputs": [
    {
     "data": {
      "text/plain": [
       "True"
      ]
     },
     "execution_count": 39,
     "metadata": {},
     "output_type": "execute_result"
    }
   ],
   "source": [
    "#55. WAE to check the given number is greater than 150.\n",
    "n = 200\n",
    "n>150"
   ]
  },
  {
   "cell_type": "code",
   "execution_count": 40,
   "metadata": {},
   "outputs": [
    {
     "data": {
      "text/plain": [
       "True"
      ]
     },
     "execution_count": 40,
     "metadata": {},
     "output_type": "execute_result"
    }
   ],
   "source": [
    "#56. WAE to check the given number is greater than or equal to 100.\n",
    "n = 100\n",
    "n>=100"
   ]
  },
  {
   "cell_type": "code",
   "execution_count": 43,
   "metadata": {},
   "outputs": [
    {
     "name": "stdout",
     "output_type": "stream",
     "text": [
      "True\n"
     ]
    }
   ],
   "source": [
    "#57. WAE to check the given number is less than 150, print the result.\n",
    "n = 100\n",
    "result = n<150\n",
    "print(result)"
   ]
  },
  {
   "cell_type": "code",
   "execution_count": 48,
   "metadata": {},
   "outputs": [
    {
     "data": {
      "text/plain": [
       "False"
      ]
     },
     "execution_count": 48,
     "metadata": {},
     "output_type": "execute_result"
    }
   ],
   "source": [
    "#58. WAE to check the given number is less than or equal to 100.\n",
    "n = 200\n",
    "n <= 100"
   ]
  },
  {
   "cell_type": "code",
   "execution_count": 51,
   "metadata": {},
   "outputs": [
    {
     "data": {
      "text/plain": [
       "True"
      ]
     },
     "execution_count": 51,
     "metadata": {},
     "output_type": "execute_result"
    }
   ],
   "source": [
    "#59. WAE to check the given number is greater than 15 & less than 24.\n",
    "n =22 \n",
    "24>n>15"
   ]
  },
  {
   "cell_type": "code",
   "execution_count": 54,
   "metadata": {},
   "outputs": [
    {
     "data": {
      "text/plain": [
       "True"
      ]
     },
     "execution_count": 54,
     "metadata": {},
     "output_type": "execute_result"
    }
   ],
   "source": [
    "#60. WAE to check the given number is even.\n",
    "n= 28\n",
    "n%2==0"
   ]
  },
  {
   "cell_type": "code",
   "execution_count": 56,
   "metadata": {},
   "outputs": [
    {
     "data": {
      "text/plain": [
       "True"
      ]
     },
     "execution_count": 56,
     "metadata": {},
     "output_type": "execute_result"
    }
   ],
   "source": [
    "#61. WAE to check the given number is odd.\n",
    "n = 10\n",
    "n%2==0 \n",
    "#Need to work."
   ]
  },
  {
   "cell_type": "code",
   "execution_count": null,
   "metadata": {},
   "outputs": [],
   "source": [
    "#62. WAE to check perform the replication of a given string with 6."
   ]
  },
  {
   "cell_type": "code",
   "execution_count": 4,
   "metadata": {},
   "outputs": [
    {
     "data": {
      "text/plain": [
       "65"
      ]
     },
     "execution_count": 4,
     "metadata": {},
     "output_type": "execute_result"
    }
   ],
   "source": []
  }
 ],
 "metadata": {
  "kernelspec": {
   "display_name": "Python 3",
   "language": "python",
   "name": "python3"
  },
  "language_info": {
   "codemirror_mode": {
    "name": "ipython",
    "version": 3
   },
   "file_extension": ".py",
   "mimetype": "text/x-python",
   "name": "python",
   "nbconvert_exporter": "python",
   "pygments_lexer": "ipython3",
   "version": "3.11.4"
  },
  "orig_nbformat": 4
 },
 "nbformat": 4,
 "nbformat_minor": 2
}
