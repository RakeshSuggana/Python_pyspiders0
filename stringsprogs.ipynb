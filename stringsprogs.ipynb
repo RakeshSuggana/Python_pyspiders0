{
 "cells": [
  {
   "cell_type": "code",
   "execution_count": null,
   "metadata": {},
   "outputs": [],
   "source": [
    "s = 'if'\n",
    "s.isidentifier()"
   ]
  },
  {
   "cell_type": "code",
   "execution_count": 74,
   "metadata": {},
   "outputs": [
    {
     "data": {
      "text/plain": [
       "True"
      ]
     },
     "execution_count": 74,
     "metadata": {},
     "output_type": "execute_result"
    }
   ],
   "source": [
    "s = 'e1pys_'\n",
    "def is_identifier(coll):\n",
    "    if '0'<=coll[0]<='9':\n",
    "        return False\n",
    "    for i in coll:\n",
    "        if not('a'<=i<='z' or '0'<=i<='9' or 'A'<=i<='Z' or i == '_'):\n",
    "            return False\n",
    "    return True\n",
    "is_identifier(s)"
   ]
  },
  {
   "cell_type": "code",
   "execution_count": 75,
   "metadata": {},
   "outputs": [
    {
     "name": "stdout",
     "output_type": "stream",
     "text": [
      "a--b--c--d\n"
     ]
    }
   ],
   "source": [
    "s = ['a','b','c','d']\n",
    "print('--'.join(s))"
   ]
  },
  {
   "cell_type": "code",
   "execution_count": 76,
   "metadata": {},
   "outputs": [
    {
     "data": {
      "text/plain": [
       "'ax--bdf--efg'"
      ]
     },
     "execution_count": 76,
     "metadata": {},
     "output_type": "execute_result"
    }
   ],
   "source": [
    "s = ['ax', 'bdf', 'efg']\n",
    "def u_join(coll, sep =\"\"):\n",
    "    for i in coll:\n",
    "        if type(i) != str:\n",
    "            return False\n",
    "    res =\"\"\n",
    "    for i in coll:\n",
    "        res= res+i+sep\n",
    "    if sep=='':\n",
    "        return res\n",
    "    else:\n",
    "        return res[:-(len(sep)):]\n",
    "u_join(s,'--')"
   ]
  },
  {
   "cell_type": "code",
   "execution_count": 77,
   "metadata": {},
   "outputs": [
    {
     "name": "stdout",
     "output_type": "stream",
     "text": [
      "Hello World 123A Bc @# $Xyz Ijkl\n"
     ]
    }
   ],
   "source": [
    "\n",
    "st = 'Hello world 123a bc @# $xyz ijkl'\n",
    "print(st.title())"
   ]
  },
  {
   "cell_type": "code",
   "execution_count": null,
   "metadata": {},
   "outputs": [],
   "source": [
    "st = 'Hello world 123Abc @# $xyz ijkl'\n",
    "for i in st:\n",
    "    if st[0]"
   ]
  },
  {
   "cell_type": "code",
   "execution_count": 78,
   "metadata": {},
   "outputs": [
    {
     "ename": "NameError",
     "evalue": "name 'coll' is not defined",
     "output_type": "error",
     "traceback": [
      "\u001b[1;31m---------------------------------------------------------------------------\u001b[0m",
      "\u001b[1;31mNameError\u001b[0m                                 Traceback (most recent call last)",
      "\u001b[1;32mc:\\Users\\rakes\\OneDrive\\Documents\\GitHub\\Python_pyspiders0\\stringsprogs.ipynb Cell 7\u001b[0m line \u001b[0;36m2\n\u001b[0;32m     <a href='vscode-notebook-cell:/c%3A/Users/rakes/OneDrive/Documents/GitHub/Python_pyspiders0/stringsprogs.ipynb#W6sZmlsZQ%3D%3D?line=26'>27</a>\u001b[0m         res\u001b[39m+\u001b[39m\u001b[39m=\u001b[39ms\n\u001b[0;32m     <a href='vscode-notebook-cell:/c%3A/Users/rakes/OneDrive/Documents/GitHub/Python_pyspiders0/stringsprogs.ipynb#W6sZmlsZQ%3D%3D?line=27'>28</a>\u001b[0m     \u001b[39mreturn\u001b[39;00m res\n\u001b[1;32m---> <a href='vscode-notebook-cell:/c%3A/Users/rakes/OneDrive/Documents/GitHub/Python_pyspiders0/stringsprogs.ipynb#W6sZmlsZQ%3D%3D?line=28'>29</a>\u001b[0m \u001b[39mprint\u001b[39m(\u001b[39m'\u001b[39m\u001b[39mafter converting the string \u001b[39m\u001b[39m\"\u001b[39m\u001b[39m'\u001b[39m\u001b[39m+\u001b[39mst\u001b[39m+\u001b[39m\u001b[39m'\u001b[39m\u001b[39m\"\u001b[39m\u001b[39m into title case, the resultant string will be \u001b[39m\u001b[39m\"\u001b[39m\u001b[39m'\u001b[39m\u001b[39m+\u001b[39mu_title(coll)\u001b[39m+\u001b[39m\u001b[39m'\u001b[39m\u001b[39m\"\u001b[39m\u001b[39m'\u001b[39m)\n",
      "\u001b[1;31mNameError\u001b[0m: name 'coll' is not defined"
     ]
    }
   ],
   "source": [
    "#48. WAP to convert title case in a given string\n",
    "st=input('Enter a string')\n",
    "def u_title(st):\n",
    "    count=0\n",
    "    s=''\n",
    "    res=''\n",
    "    for i in range(len(st)):\n",
    "        if 'a'<=st[i]<='z' or 'A'<=st[i]<='Z' :\n",
    "            count+=1\n",
    "            if count==1:\n",
    "                if 'a'<=st[i]<='z':\n",
    "                    s+=chr(ord(st[i])-32)\n",
    "                else: \n",
    "                    s+=st[i]\n",
    "            else:\n",
    "                if 'A'<=st[i]<='Z': \n",
    "                    s+=chr(ord(st[i])+32)\n",
    "                else: s+=st[i]\n",
    "        else:\n",
    "            if s!='':\n",
    "                res+=s+st[i]\n",
    "                s=''\n",
    "                count=0\n",
    "            else:\n",
    "                res+=st[i]\n",
    "    if s!='':\n",
    "        res+=s\n",
    "    return res\n",
    "print('after converting the string \"'+st+'\" into title case, the resultant string will be \"'+u_title(coll)+'\"')"
   ]
  },
  {
   "cell_type": "code",
   "execution_count": 79,
   "metadata": {},
   "outputs": [
    {
     "data": {
      "text/plain": [
       "3"
      ]
     },
     "execution_count": 79,
     "metadata": {},
     "output_type": "execute_result"
    }
   ],
   "source": [
    "#count\n",
    "st = 'helloworld'\n",
    "st.count('l',0,9)"
   ]
  },
  {
   "cell_type": "code",
   "execution_count": 80,
   "metadata": {},
   "outputs": [
    {
     "data": {
      "text/plain": [
       "3"
      ]
     },
     "execution_count": 80,
     "metadata": {},
     "output_type": "execute_result"
    }
   ],
   "source": [
    "#logical\n",
    "st = 'helloworld'\n",
    "def f_count(coll,ele,start=0,end=None):\n",
    "    if end==None:\n",
    "        end=len(coll)\n",
    "    count=0\n",
    "    for i in range(start,end):\n",
    "        if coll[i]==ele:\n",
    "            count+=1\n",
    "    return count\n",
    "f_count(st,'l',0,9)"
   ]
  },
  {
   "cell_type": "code",
   "execution_count": null,
   "metadata": {},
   "outputs": [],
   "source": [
    "#Assigenment :  First occurance, nth occurance."
   ]
  },
  {
   "cell_type": "code",
   "execution_count": 81,
   "metadata": {},
   "outputs": [
    {
     "data": {
      "text/plain": [
       "2"
      ]
     },
     "execution_count": 81,
     "metadata": {},
     "output_type": "execute_result"
    }
   ],
   "source": [
    "#index\n",
    "st = 'helloworld'\n",
    "st.index('l')"
   ]
  },
  {
   "cell_type": "code",
   "execution_count": 82,
   "metadata": {},
   "outputs": [
    {
     "data": {
      "text/plain": [
       "2"
      ]
     },
     "execution_count": 82,
     "metadata": {},
     "output_type": "execute_result"
    }
   ],
   "source": [
    "#find\n",
    "st = 'helloworld'\n",
    "st.find('l')"
   ]
  },
  {
   "cell_type": "code",
   "execution_count": 83,
   "metadata": {},
   "outputs": [
    {
     "data": {
      "text/plain": [
       "-1"
      ]
     },
     "execution_count": 83,
     "metadata": {},
     "output_type": "execute_result"
    }
   ],
   "source": [
    "st = 'helloworld'\n",
    "def f_find(coll,ele,start=0,end=None):\n",
    "    if end==None:\n",
    "        end = len(coll)\n",
    "    if ele not in coll:\n",
    "        return -1\n",
    "    while start<end:\n",
    "        if ele==coll[start]:\n",
    "            return start\n",
    "        start+=1\n",
    "    return -1\n",
    "f_find(st,'l',6,4)"
   ]
  },
  {
   "cell_type": "code",
   "execution_count": 84,
   "metadata": {},
   "outputs": [
    {
     "name": "stdout",
     "output_type": "stream",
     "text": [
      "printing index here man 9\n"
     ]
    }
   ],
   "source": [
    "st = 'helloworld'\n",
    "st = st.rfind('d')\n",
    "print(\"printing index here man\", st)"
   ]
  },
  {
   "cell_type": "code",
   "execution_count": 85,
   "metadata": {},
   "outputs": [
    {
     "data": {
      "text/plain": [
       "9"
      ]
     },
     "execution_count": 85,
     "metadata": {},
     "output_type": "execute_result"
    }
   ],
   "source": [
    "st = 'helloworld'\n",
    "def u_find(coll,ele,start=0, end= None):\n",
    "    if end==None:\n",
    "        end=len(coll)-1\n",
    "    if ele not in coll[start:end+1]:\n",
    "        return -1\n",
    "    while end>start:\n",
    "        if coll[end]==ele:\n",
    "            return end\n",
    "        end-=1\n",
    "u_find(st,'d',1,len(st)-1)"
   ]
  },
  {
   "cell_type": "code",
   "execution_count": 86,
   "metadata": {},
   "outputs": [
    {
     "data": {
      "text/plain": [
       "['he', '', 'owor', 'd']"
      ]
     },
     "execution_count": 86,
     "metadata": {},
     "output_type": "execute_result"
    }
   ],
   "source": [
    "#split\n",
    "st = 'helloworld'\n",
    "st.split('l')"
   ]
  },
  {
   "cell_type": "code",
   "execution_count": 87,
   "metadata": {},
   "outputs": [
    {
     "data": {
      "text/plain": [
       "['hello', 'world', 'this is so damn hard']"
      ]
     },
     "execution_count": 87,
     "metadata": {},
     "output_type": "execute_result"
    }
   ],
   "source": [
    "#split- maxsplit\n",
    "st = 'hello world this is so damn hard'\n",
    "st.split(maxsplit=2)"
   ]
  },
  {
   "cell_type": "code",
   "execution_count": 88,
   "metadata": {},
   "outputs": [
    {
     "data": {
      "text/plain": [
       "[' hello', 'world', 'this', 'is', 'so', 'damn', 'hard']"
      ]
     },
     "execution_count": 88,
     "metadata": {},
     "output_type": "execute_result"
    }
   ],
   "source": [
    "st = 'hello world this is so damn hard'\n",
    "def u_split(coll,ele=\" \",maxsplit=0):\n",
    "    l = []\n",
    "    r= \" \"\n",
    "    for i in coll:\n",
    "        if i!=ele:\n",
    "            r+=i\n",
    "        else:\n",
    "            if r!=\"\":\n",
    "                l+=[r]\n",
    "            r=\"\"\n",
    "    if r!=\"\":\n",
    "        l+=[r]\n",
    "    return l\n",
    "u_split(st)\n",
    "     "
   ]
  },
  {
   "cell_type": "code",
   "execution_count": 90,
   "metadata": {},
   "outputs": [
    {
     "ename": "TypeError",
     "evalue": "can only concatenate list (not \"int\") to list",
     "output_type": "error",
     "traceback": [
      "\u001b[1;31m---------------------------------------------------------------------------\u001b[0m",
      "\u001b[1;31mTypeError\u001b[0m                                 Traceback (most recent call last)",
      "\u001b[1;32mc:\\Users\\rakes\\OneDrive\\Documents\\GitHub\\Python_pyspiders0\\stringsprogs.ipynb Cell 19\u001b[0m line \u001b[0;36m2\n\u001b[0;32m     <a href='vscode-notebook-cell:/c%3A/Users/rakes/OneDrive/Documents/GitHub/Python_pyspiders0/stringsprogs.ipynb#X24sZmlsZQ%3D%3D?line=17'>18</a>\u001b[0m         l\u001b[39m=\u001b[39m[s]\u001b[39m+\u001b[39ml\n\u001b[0;32m     <a href='vscode-notebook-cell:/c%3A/Users/rakes/OneDrive/Documents/GitHub/Python_pyspiders0/stringsprogs.ipynb#X24sZmlsZQ%3D%3D?line=18'>19</a>\u001b[0m     \u001b[39mreturn\u001b[39;00m l\n\u001b[1;32m---> <a href='vscode-notebook-cell:/c%3A/Users/rakes/OneDrive/Documents/GitHub/Python_pyspiders0/stringsprogs.ipynb#X24sZmlsZQ%3D%3D?line=19'>20</a>\u001b[0m \u001b[39mprint\u001b[39m(u_rsplit(st,\u001b[39m'\u001b[39;49m\u001b[39me\u001b[39;49m\u001b[39m'\u001b[39;49m,maxsplit\u001b[39m=\u001b[39;49m\u001b[39m5\u001b[39;49m))\n\u001b[0;32m     <a href='vscode-notebook-cell:/c%3A/Users/rakes/OneDrive/Documents/GitHub/Python_pyspiders0/stringsprogs.ipynb#X24sZmlsZQ%3D%3D?line=20'>21</a>\u001b[0m \u001b[39mprint\u001b[39m(st\u001b[39m.\u001b[39mrsplit(\u001b[39m'\u001b[39m\u001b[39me\u001b[39m\u001b[39m'\u001b[39m,maxsplit\u001b[39m=\u001b[39m\u001b[39m5\u001b[39m))\n",
      "\u001b[1;32mc:\\Users\\rakes\\OneDrive\\Documents\\GitHub\\Python_pyspiders0\\stringsprogs.ipynb Cell 19\u001b[0m line \u001b[0;36m1\n\u001b[0;32m     <a href='vscode-notebook-cell:/c%3A/Users/rakes/OneDrive/Documents/GitHub/Python_pyspiders0/stringsprogs.ipynb#X24sZmlsZQ%3D%3D?line=9'>10</a>\u001b[0m     s \u001b[39m=\u001b[39m coll[end]\u001b[39m+\u001b[39ms\n\u001b[0;32m     <a href='vscode-notebook-cell:/c%3A/Users/rakes/OneDrive/Documents/GitHub/Python_pyspiders0/stringsprogs.ipynb#X24sZmlsZQ%3D%3D?line=10'>11</a>\u001b[0m \u001b[39melif\u001b[39;00m \u001b[39mlen\u001b[39m(s)\u001b[39m!=\u001b[39m\u001b[39m0\u001b[39m:\n\u001b[1;32m---> <a href='vscode-notebook-cell:/c%3A/Users/rakes/OneDrive/Documents/GitHub/Python_pyspiders0/stringsprogs.ipynb#X24sZmlsZQ%3D%3D?line=11'>12</a>\u001b[0m     l \u001b[39m=\u001b[39m [s]\u001b[39m+\u001b[39;49m\u001b[39m1\u001b[39;49m\n\u001b[0;32m     <a href='vscode-notebook-cell:/c%3A/Users/rakes/OneDrive/Documents/GitHub/Python_pyspiders0/stringsprogs.ipynb#X24sZmlsZQ%3D%3D?line=12'>13</a>\u001b[0m     s\u001b[39m=\u001b[39m \u001b[39m'\u001b[39m\u001b[39m'\u001b[39m\n\u001b[0;32m     <a href='vscode-notebook-cell:/c%3A/Users/rakes/OneDrive/Documents/GitHub/Python_pyspiders0/stringsprogs.ipynb#X24sZmlsZQ%3D%3D?line=13'>14</a>\u001b[0m     \u001b[39mif\u001b[39;00m \u001b[39mlen\u001b[39m(l) \u001b[39m==\u001b[39m maxsplit:\n",
      "\u001b[1;31mTypeError\u001b[0m: can only concatenate list (not \"int\") to list"
     ]
    }
   ],
   "source": [
    "#rsplit\n",
    "st = 'hello world welcome to pys to'\n",
    "def u_rsplit(coll,ele='',maxsplit=None):\n",
    "    l = []\n",
    "    s = ''\n",
    "    start = 0\n",
    "    end = len(coll)-1\n",
    "    while end>=start:\n",
    "        if ele!=coll[end]:\n",
    "            s = coll[end]+s\n",
    "        elif len(s)!=0:\n",
    "            l = [s]+1\n",
    "            s= ''\n",
    "            if len(l) == maxsplit:\n",
    "                return [coll[:end]]+l\n",
    "        end-=1\n",
    "    if len(s)!=0:\n",
    "        l=[s]+l\n",
    "    return l\n",
    "print(u_rsplit(st,'e',maxsplit=5))\n",
    "print(st.rsplit('e',maxsplit=5))\n"
   ]
  },
  {
   "cell_type": "code",
   "execution_count": 91,
   "metadata": {},
   "outputs": [
    {
     "data": {
      "text/plain": [
       "True"
      ]
     },
     "execution_count": 91,
     "metadata": {},
     "output_type": "execute_result"
    }
   ],
   "source": [
    "#startswith\n",
    "st = 'We got this brah'\n",
    "st.startswith('We got')"
   ]
  },
  {
   "cell_type": "code",
   "execution_count": null,
   "metadata": {},
   "outputs": [],
   "source": [
    "st = 'We got this brah'\n",
    "for i in range(0,len(st)):\n",
    "    if st[i]==st:\n",
    "        return True\n"
   ]
  },
  {
   "cell_type": "code",
   "execution_count": 92,
   "metadata": {},
   "outputs": [
    {
     "name": "stdout",
     "output_type": "stream",
     "text": [
      "7 10\n",
      "False\n"
     ]
    }
   ],
   "source": [
    "st = 'We got this brah'\n",
    "def u_startswith(coll,sub,start=0,end=None):\n",
    "    if end==None:\n",
    "        end = start+len(sub)\n",
    "    print(start,end)\n",
    "    if sub not in coll[start:]:\n",
    "        return False\n",
    "    res = \"\"\n",
    "    while start<end:\n",
    "        res+=coll[start]\n",
    "        start+=1\n",
    "    print(res==sub)\n",
    "print(u_startswith(st,'got',7))"
   ]
  },
  {
   "cell_type": "code",
   "execution_count": 95,
   "metadata": {},
   "outputs": [
    {
     "data": {
      "text/plain": [
       "True"
      ]
     },
     "execution_count": 95,
     "metadata": {},
     "output_type": "execute_result"
    }
   ],
   "source": [
    "#endswith\n",
    "st = 'We got this brah'\n",
    "st.endswith('this brah',0,len(st))"
   ]
  },
  {
   "cell_type": "code",
   "execution_count": 93,
   "metadata": {},
   "outputs": [],
   "source": [
    "st = 'We got this brah'\n",
    "def u_endswith(coll,sub,start=0,end= None):\n",
    "    if end == None:\n",
    "        end = len(sub)-1\n",
    "    print(start,end)"
   ]
  },
  {
   "cell_type": "code",
   "execution_count": null,
   "metadata": {},
   "outputs": [],
   "source": [
    "st = 'We got this brah'\n",
    "u = 'this brah'\n",
    "\n",
    "for i in range(0,len(st)):\n",
    "    if st[i]== u:\n",
    "        print(i)\n"
   ]
  }
 ],
 "metadata": {
  "kernelspec": {
   "display_name": "Python 3",
   "language": "python",
   "name": "python3"
  },
  "language_info": {
   "codemirror_mode": {
    "name": "ipython",
    "version": 3
   },
   "file_extension": ".py",
   "mimetype": "text/x-python",
   "name": "python",
   "nbconvert_exporter": "python",
   "pygments_lexer": "ipython3",
   "version": "3.11.4"
  },
  "orig_nbformat": 4
 },
 "nbformat": 4,
 "nbformat_minor": 2
}
