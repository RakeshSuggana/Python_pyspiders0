{
 "cells": [
  {
   "cell_type": "code",
   "execution_count": 2,
   "metadata": {},
   "outputs": [
    {
     "name": "stdout",
     "output_type": "stream",
     "text": [
      "(10, 20, 30)\n"
     ]
    }
   ],
   "source": [
    "def sample(*args):  #user defined tuple packing\n",
    "    print(args)\n",
    "sample(10,20,30)"
   ]
  },
  {
   "cell_type": "code",
   "execution_count": 4,
   "metadata": {},
   "outputs": [
    {
     "name": "stdout",
     "output_type": "stream",
     "text": [
      "{'a': 10, 'b': 20, 'c': 30}\n"
     ]
    }
   ],
   "source": [
    "def keyw(**kwargs): #user defined set packing\n",
    "    print(kwargs)\n",
    "keyw(a=10,b=20,c=30)"
   ]
  },
  {
   "cell_type": "code",
   "execution_count": 9,
   "metadata": {},
   "outputs": [
    {
     "name": "stdout",
     "output_type": "stream",
     "text": [
      "(10, 20, 30) {'a': 10, 'b': 20, 'c': 30}\n",
      "----------\n"
     ]
    }
   ],
   "source": [
    "def demo(*args,**kwargs): #user defined tuple and set packing\n",
    "    print(args,kwargs)\n",
    "demo(10,20,30,a=10,b=20,c=30)\n",
    "print(\"-\"*10)"
   ]
  },
  {
   "cell_type": "code",
   "execution_count": 11,
   "metadata": {},
   "outputs": [
    {
     "name": "stdout",
     "output_type": "stream",
     "text": [
      "10 20 30 40\n"
     ]
    }
   ],
   "source": [
    "#Tuple unpacking\n",
    "t = (10,20,30,40)\n",
    "def demo(a,b,c,d):\n",
    "    print(a,b,c,d)\n",
    "demo(*t)"
   ]
  },
  {
   "cell_type": "code",
   "execution_count": 17,
   "metadata": {},
   "outputs": [
    {
     "name": "stdout",
     "output_type": "stream",
     "text": [
      "10 20 30\n"
     ]
    }
   ],
   "source": [
    "#Dict Unpacking\n",
    "s={'a':10,'b':20,'c':30}\n",
    "def demo(a,b,c,):\n",
    "    print(a,b,c,)\n",
    "demo(**s)"
   ]
  },
  {
   "cell_type": "code",
   "execution_count": 60,
   "metadata": {},
   "outputs": [
    {
     "name": "stdout",
     "output_type": "stream",
     "text": [
      "10 20\n",
      "100 200\n",
      "5.001722574234009\n",
      "1697015273.7075067 1697015278.7092292\n",
      "<class 'int'>\n"
     ]
    }
   ],
   "source": [
    "#Nested function syntax\n",
    "import time\n",
    "start=time.time()\n",
    "def outer(x,y):\n",
    "    print(x,y)\n",
    "    def inner(a,b):\n",
    "        print(a,b)\n",
    "    inner(100,200)\n",
    "outer(10,20)\n",
    "time.sleep(5)\n",
    "end=time.time()\n",
    "print(end-start)\n",
    "print(start,end)\n",
    "print(int)"
   ]
  },
  {
   "cell_type": "code",
   "execution_count": 61,
   "metadata": {},
   "outputs": [
    {
     "name": "stdout",
     "output_type": "stream",
     "text": [
      "1697015354.664412\n",
      "time.struct_time(tm_year=2023, tm_mon=10, tm_mday=11, tm_hour=9, tm_min=9, tm_sec=14, tm_wday=2, tm_yday=284, tm_isdst=0)\n"
     ]
    }
   ],
   "source": [
    "#time\n",
    "import time\n",
    "print(time.time())\n",
    "print(time.gmtime())"
   ]
  },
  {
   "cell_type": "code",
   "execution_count": 38,
   "metadata": {},
   "outputs": [
    {
     "name": "stdout",
     "output_type": "stream",
     "text": [
      "1697014411.9507282\n"
     ]
    }
   ],
   "source": [
    "print(time.time())"
   ]
  }
 ],
 "metadata": {
  "kernelspec": {
   "display_name": "Python 3",
   "language": "python",
   "name": "python3"
  },
  "language_info": {
   "codemirror_mode": {
    "name": "ipython",
    "version": 3
   },
   "file_extension": ".py",
   "mimetype": "text/x-python",
   "name": "python",
   "nbconvert_exporter": "python",
   "pygments_lexer": "ipython3",
   "version": "3.11.4"
  },
  "orig_nbformat": 4
 },
 "nbformat": 4,
 "nbformat_minor": 2
}
