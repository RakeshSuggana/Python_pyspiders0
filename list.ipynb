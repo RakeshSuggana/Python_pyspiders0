{
 "cells": [
  {
   "cell_type": "code",
   "execution_count": 2,
   "metadata": {},
   "outputs": [
    {
     "name": "stdout",
     "output_type": "stream",
     "text": [
      "['Basha is a language', 'English']\n"
     ]
    }
   ],
   "source": [
    "#list pre defined functions\n",
    "l = ['Basha is a language']\n",
    "l.append('English')\n",
    "print(l)"
   ]
  },
  {
   "cell_type": "code",
   "execution_count": 3,
   "metadata": {},
   "outputs": [
    {
     "name": "stdout",
     "output_type": "stream",
     "text": [
      "['Basha is a language', 'e', 'n', 'g', 'l', 'i', 's', 'h']\n"
     ]
    }
   ],
   "source": [
    "l = ['Basha is a language']\n",
    "l.extend('english')\n",
    "print(l)"
   ]
  },
  {
   "cell_type": "code",
   "execution_count": 20,
   "metadata": {},
   "outputs": [
    {
     "name": "stdout",
     "output_type": "stream",
     "text": [
      "['Basha is a language', 'r']\n"
     ]
    }
   ],
   "source": [
    "l = ['Basha is a language']\n",
    "l.insert(','r')\n",
    "print(l)"
   ]
  }
 ],
 "metadata": {
  "kernelspec": {
   "display_name": "Python 3",
   "language": "python",
   "name": "python3"
  },
  "language_info": {
   "codemirror_mode": {
    "name": "ipython",
    "version": 3
   },
   "file_extension": ".py",
   "mimetype": "text/x-python",
   "name": "python",
   "nbconvert_exporter": "python",
   "pygments_lexer": "ipython3",
   "version": "3.11.4"
  },
  "orig_nbformat": 4
 },
 "nbformat": 4,
 "nbformat_minor": 2
}
