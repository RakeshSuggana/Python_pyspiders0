{
 "cells": [
  {
   "cell_type": "code",
   "execution_count": 10,
   "metadata": {},
   "outputs": [
    {
     "name": "stdout",
     "output_type": "stream",
     "text": [
      "Exceeded\n"
     ]
    }
   ],
   "source": [
    "#WAP to check the given number is divisible by 3 and 7.if both the conditions are satisfied display the cube of the given number.\n",
    "n = eval(input(\"Enter value\"))\n",
    "if type(n) in [int,float] and n% 3==0 and n%7==0:\n",
    "    print(n**3)\n",
    "else:\n",
    "    print(\"Exceeded\")"
   ]
  },
  {
   "cell_type": "code",
   "execution_count": 36,
   "metadata": {},
   "outputs": [
    {
     "name": "stdout",
     "output_type": "stream",
     "text": [
      "wuck\n"
     ]
    }
   ],
   "source": [
    "#WAP to check given number is even or not. If it is even to display half of the given number with out float format.\n",
    "n = eval(input(\"Enter:\"))\n",
    "if n%2==0:\n",
    "    print(n//2)\n",
    "else:\n",
    "    print(\"wuck\")"
   ]
  },
  {
   "cell_type": "code",
   "execution_count": 34,
   "metadata": {},
   "outputs": [
    {
     "name": "stdout",
     "output_type": "stream",
     "text": [
      "Hey Mad Man, Take right input.\n"
     ]
    }
   ],
   "source": [
    "#WAP to check given number is more than 20 and less than 50. if condition satisfies then print ASCII value of it.\n",
    "n = eval(input())\n",
    "if n>20 and n<50:\n",
    "    print(chr(n))\n",
    "else:\n",
    "    print(\"Hey Mad Man, Take right input.\")"
   ]
  },
  {
   "cell_type": "code",
   "execution_count": 50,
   "metadata": {},
   "outputs": [
    {
     "name": "stdout",
     "output_type": "stream",
     "text": [
      "a\n"
     ]
    }
   ],
   "source": [
    "#WAP to check given character is upper case or not. if it is upper case convert it to lower case.\n",
    "n = \"A\"\n",
    "m = ord(n)\n",
    "if m<=90 and m>=65 :\n",
    "    print(chr(m+32))"
   ]
  },
  {
   "cell_type": "code",
   "execution_count": 12,
   "metadata": {},
   "outputs": [
    {
     "name": "stdout",
     "output_type": "stream",
     "text": [
      "['a']\n"
     ]
    }
   ],
   "source": [
    "#WAP to print given chracter is alphabet or not. If it is alphabet store it inside the list.\n",
    "l=[]\n",
    "n= str(input(\"Enter:\"))\n",
    "if type(n) == str and len(n) == 1 and 'A'<=n<='Z' or 'a'<=n<='z':\n",
    "    l+=n\n",
    "    print(l)\n"
   ]
  },
  {
   "cell_type": "code",
   "execution_count": 13,
   "metadata": {},
   "outputs": [
    {
     "name": "stdout",
     "output_type": "stream",
     "text": [
      "niform\n"
     ]
    }
   ],
   "source": [
    "'''WAP to check starting of the character is vowel or not in given string. \n",
    "If it is vowel, we need to eliminate the starting character of the given string.'''\n",
    "n = \"Uniform\"\n",
    "if  n[0] in ['A','E','I','O','U','a','e','i','o','u']:\n",
    "   print (n[1:])"
   ]
  },
  {
   "cell_type": "code",
   "execution_count": 19,
   "metadata": {},
   "outputs": [
    {
     "name": "stdout",
     "output_type": "stream",
     "text": [
      "8\n"
     ]
    }
   ],
   "source": [
    "#WAP to check the given value is present in collection or not if value is preseent we need to concat the value in the middle of the collection.\n",
    "c = [1,2,4,5]\n",
    "n = 4\n",
    "if n in c:\n",
    " [len(c)//2:len(c)//2]=[n]\n",
    " print(m)"
   ]
  },
  {
   "cell_type": "code",
   "execution_count": 1,
   "metadata": {},
   "outputs": [
    {
     "name": "stdout",
     "output_type": "stream",
     "text": [
      "{1, 2, 3, 4, 5}\n"
     ]
    }
   ],
   "source": [
    "#WAP given value is in given set. IF value is not present concat the value inside the set.\n",
    "n= {1,3,2,4}\n",
    "m = 5\n",
    "if m not in n:\n",
    "    n|={m}\n",
    "    print(n)\n",
    "    "
   ]
  },
  {
   "cell_type": "code",
   "execution_count": 10,
   "metadata": {},
   "outputs": [
    {
     "name": "stdout",
     "output_type": "stream",
     "text": [
      "{95: '_'}\n"
     ]
    }
   ],
   "source": [
    "'''WAP to check the given character is special charcter or not and given value's ASCII value is divisible by 5 or not.\n",
    "If it satisfies should store the character with ASCII value into the dictionary'''\n",
    "d= {}\n",
    "j= {}\n",
    "n = '_'\n",
    "m = ord(n)\n",
    "if not( 'A'<=n<='Z' or 'a'<=n<='z') and m%5==0:\n",
    "    d[ord(n)]=n\n",
    "    print(d)\n",
    "\n"
   ]
  },
  {
   "cell_type": "code",
   "execution_count": 54,
   "metadata": {},
   "outputs": [
    {
     "name": "stdout",
     "output_type": "stream",
     "text": [
      "6.12\n"
     ]
    }
   ],
   "source": [
    "n = 6.12\n",
    "if n%2==0:\n",
    "    print(n%10)\n",
    "else:\n",
    "    print(n)\n"
   ]
  },
  {
   "cell_type": "code",
   "execution_count": 36,
   "metadata": {},
   "outputs": [
    {
     "name": "stdout",
     "output_type": "stream",
     "text": [
      "3\n"
     ]
    }
   ],
   "source": [
    "#Check given number is divisible by 5 and 8. if it satisifies perform right shift 3 and display the result. Else, Extract starting digit.\n",
    "n = 30\n",
    "if  n%5==0 and n%8 == 0:\n",
    "    print(n>>3)\n",
    "else:\n",
    "    print(str(n)[0])\n"
   ]
  },
  {
   "cell_type": "code",
   "execution_count": 33,
   "metadata": {},
   "outputs": [
    {
     "name": "stdout",
     "output_type": "stream",
     "text": [
      "]4 ,2 ,1[\n"
     ]
    }
   ],
   "source": [
    "'''#WAP to check the given value is single value or multi value. If it is single value we need to perfrom multiplication with 3.\n",
    "If it is multi value, Convert into string and display its reverse string.'''\n",
    "n = [1,2,4]\n",
    "\n",
    "if type(n) in [list,tuple,set,dict]:\n",
    "    n = str(n)\n",
    "    print(n[-1::-1])\n",
    "else:\n",
    "    print(n*3)"
   ]
  },
  {
   "cell_type": "code",
   "execution_count": null,
   "metadata": {},
   "outputs": [],
   "source": [
    "'''#WAP to check given chracter is alphabet or either special chracter or ASCII number. If it iws an alphabet, Concat the value inside the set.\n",
    "or else append the value inside the dictionary. \"key\" consider as ASCII value of thee given chracter and \"Value\" consider as character.'''\n",
    "n= \"R\"\n",
    "if 'a'<=n<='z' or 'A'\n",
    "\n",
    "#CODE PENDING.....WORKING ON IT."
   ]
  },
  {
   "cell_type": "code",
   "execution_count": 49,
   "metadata": {},
   "outputs": [
    {
     "name": "stdout",
     "output_type": "stream",
     "text": [
      "[1, 2]\n"
     ]
    }
   ],
   "source": [
    "'''WAP to check if the given value is present in given list or not. If given value is present in given list then extract half of the list.\n",
    "If value is not present, Concat the value at the middle of the list.'''\n",
    "l=[1,2,3,4,5]\n",
    "n = 5\n",
    "if n in l:\n",
    "    print(l[0:len(l)//2])"
   ]
  },
  {
   "cell_type": "code",
   "execution_count": 52,
   "metadata": {},
   "outputs": [
    {
     "name": "stdout",
     "output_type": "stream",
     "text": [
      "First value is greater: 100\n"
     ]
    }
   ],
   "source": [
    "#WAP to find out greatest of two values.\n",
    "a = 100\n",
    "b = 20\n",
    "if a>b:\n",
    "    print(\"First value is greater:\",a)\n",
    "else:\n",
    "    print(\"Second value is greater:\",b)\n"
   ]
  },
  {
   "cell_type": "code",
   "execution_count": 13,
   "metadata": {},
   "outputs": [],
   "source": [
    "'''#WAP to check the starting chracter and middle both are sequence or not. \n",
    "If True Both are in sequence, Swap the chracters.Else, Eliminate starting,middle & last chracter'''\n",
    "n = \"abcdefg\"\n",
    "a = ord(n[0])+1\n",
    "b = ord(n[len(n)//2])\n",
    "if a == b:\n",
    "    n=n[len(n//2)]+n[1:len(n)//2]+n[(len(n)+1):]\n",
    "    print(n)\n",
    "\n",
    "#CODE NOT COMPLETED.\n"
   ]
  },
  {
   "cell_type": "code",
   "execution_count": 11,
   "metadata": {},
   "outputs": [
    {
     "name": "stdout",
     "output_type": "stream",
     "text": [
      "3\n"
     ]
    }
   ],
   "source": [
    "#WAP to check the given value is list and first, last values are same type of values.If both are same, Eliminate both the values.\n",
    "# Else, Concat both the values.\n",
    "l = [1,2]\n",
    "if l[0]==l[1]:\n",
    "    del l[::]\n",
    "    print(l)\n",
    "else:\n",
    "    m=l[0]+l[1]\n",
    "    print(m)\n",
    "\n",
    "#CODE UNDER CONSTRUCTION."
   ]
  }
 ],
 "metadata": {
  "kernelspec": {
   "display_name": "Python 3",
   "language": "python",
   "name": "python3"
  },
  "language_info": {
   "codemirror_mode": {
    "name": "ipython",
    "version": 3
   },
   "file_extension": ".py",
   "mimetype": "text/x-python",
   "name": "python",
   "nbconvert_exporter": "python",
   "pygments_lexer": "ipython3",
   "version": "3.11.4"
  },
  "orig_nbformat": 4
 },
 "nbformat": 4,
 "nbformat_minor": 2
}
