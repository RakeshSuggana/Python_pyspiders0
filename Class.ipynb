{
 "cells": [
  {
   "cell_type": "code",
   "execution_count": 68,
   "metadata": {},
   "outputs": [
    {
     "name": "stdout",
     "output_type": "stream",
     "text": [
      "Not divisible\n"
     ]
    }
   ],
   "source": [
    "#WAP to check the given number is divisible by 3 and 7.if both the conditions are satisfied display the cube of the given number.\n",
    "n = eval(input(\"Enter the value:\"))\n",
    "if type(n) in [int,float] and n%3==0  and  n%7==0:\n",
    "    print(n**3)\n",
    "else:\n",
    "    print(\"Not divisible\")"
   ]
  },
  {
   "cell_type": "code",
   "execution_count": 69,
   "metadata": {},
   "outputs": [
    {
     "ename": "TypeError",
     "evalue": "not all arguments converted during string formatting",
     "output_type": "error",
     "traceback": [
      "\u001b[1;31m---------------------------------------------------------------------------\u001b[0m",
      "\u001b[1;31mTypeError\u001b[0m                                 Traceback (most recent call last)",
      "\u001b[1;32mc:\\Users\\rakes\\OneDrive\\Documents\\GitHub\\Python_pyspiders0\\Class.ipynb Cell 2\u001b[0m line \u001b[0;36m3\n\u001b[0;32m      <a href='vscode-notebook-cell:/c%3A/Users/rakes/OneDrive/Documents/GitHub/Python_pyspiders0/Class.ipynb#W1sZmlsZQ%3D%3D?line=0'>1</a>\u001b[0m \u001b[39m#WAP to check given number is even or not. If it is even to display half of the given number with out float format.\u001b[39;00m\n\u001b[0;32m      <a href='vscode-notebook-cell:/c%3A/Users/rakes/OneDrive/Documents/GitHub/Python_pyspiders0/Class.ipynb#W1sZmlsZQ%3D%3D?line=1'>2</a>\u001b[0m n \u001b[39m=\u001b[39m \u001b[39meval\u001b[39m(\u001b[39minput\u001b[39m(\u001b[39m\"\u001b[39m\u001b[39mEnter:\u001b[39m\u001b[39m\"\u001b[39m))\n\u001b[1;32m----> <a href='vscode-notebook-cell:/c%3A/Users/rakes/OneDrive/Documents/GitHub/Python_pyspiders0/Class.ipynb#W1sZmlsZQ%3D%3D?line=2'>3</a>\u001b[0m \u001b[39mif\u001b[39;00m n\u001b[39m%\u001b[39;49m\u001b[39m2\u001b[39;49m\u001b[39m==\u001b[39m\u001b[39m0\u001b[39m:\n\u001b[0;32m      <a href='vscode-notebook-cell:/c%3A/Users/rakes/OneDrive/Documents/GitHub/Python_pyspiders0/Class.ipynb#W1sZmlsZQ%3D%3D?line=3'>4</a>\u001b[0m     \u001b[39mprint\u001b[39m(n\u001b[39m/\u001b[39m\u001b[39m/\u001b[39m\u001b[39m2\u001b[39m)\n\u001b[0;32m      <a href='vscode-notebook-cell:/c%3A/Users/rakes/OneDrive/Documents/GitHub/Python_pyspiders0/Class.ipynb#W1sZmlsZQ%3D%3D?line=4'>5</a>\u001b[0m \u001b[39melse\u001b[39;00m:\n",
      "\u001b[1;31mTypeError\u001b[0m: not all arguments converted during string formatting"
     ]
    }
   ],
   "source": [
    "#WAP to check given number is even or not. If it is even to display half of the given number with out float format.\n",
    "n = eval(input(\"Enter:\"))\n",
    "if n%2==0:\n",
    "    print(n//2)\n",
    "else:\n",
    "    print(\"wuck\")"
   ]
  },
  {
   "cell_type": "code",
   "execution_count": null,
   "metadata": {},
   "outputs": [
    {
     "name": "stdout",
     "output_type": "stream",
     "text": [
      "Hey Mad Man, Take right input.\n"
     ]
    }
   ],
   "source": [
    "#WAP to check given number is more than 20 and less than 50. if condition satisfies then print ASCII value of it.\n",
    "n = eval(input())\n",
    "if n>20 and n<50:\n",
    "    print(chr(n))\n",
    "else:\n",
    "    print(\"Hey Mad Man, Take right input.\")"
   ]
  },
  {
   "cell_type": "code",
   "execution_count": null,
   "metadata": {},
   "outputs": [
    {
     "name": "stdout",
     "output_type": "stream",
     "text": [
      "a\n"
     ]
    }
   ],
   "source": [
    "#WAP to check given character is upper case or not. if it is upper case convert it to lower case.\n",
    "n = \"A\"\n",
    "m = ord(n)\n",
    "if m<=90 and m>=65 :\n",
    "    print(chr(m+32))"
   ]
  },
  {
   "cell_type": "code",
   "execution_count": null,
   "metadata": {},
   "outputs": [],
   "source": [
    "#WAP to print given chracter is alphabet or not. If it is alphabet store it inside the list.\n",
    "l=[]\n",
    "n= str(input(\"Enter:\"))\n",
    "if type(n) == str and len(n) == 1 and 'A'<=n<='Z' or 'a'<=n<='z':\n",
    "    l+=n\n",
    "    print(l)\n"
   ]
  },
  {
   "cell_type": "code",
   "execution_count": null,
   "metadata": {},
   "outputs": [
    {
     "name": "stdout",
     "output_type": "stream",
     "text": [
      "niform\n"
     ]
    }
   ],
   "source": [
    "'''WAP to check starting of the character is vowel or not in given string. \n",
    "If it is vowel, we need to eliminate the starting character of the given string.'''\n",
    "n = \"Uniform\"\n",
    "if  n[0] in ['A','E','I','O','U','a','e','i','o','u']:\n",
    "   print (n[1:])"
   ]
  },
  {
   "cell_type": "code",
   "execution_count": null,
   "metadata": {},
   "outputs": [
    {
     "ename": "SyntaxError",
     "evalue": "invalid syntax (3544314735.py, line 5)",
     "output_type": "error",
     "traceback": [
      "\u001b[1;36m  Cell \u001b[1;32mIn[7], line 5\u001b[1;36m\u001b[0m\n\u001b[1;33m    [len(c)//2:len(c)//2]=[n]\u001b[0m\n\u001b[1;37m              ^\u001b[0m\n\u001b[1;31mSyntaxError\u001b[0m\u001b[1;31m:\u001b[0m invalid syntax\n"
     ]
    }
   ],
   "source": [
    "#WAP to check the given value is present in collection or not if value is preseent we need to concat the value in the middle of the collection.\n",
    "c = [1,2,4,5]\n",
    "n = 4\n",
    "if n in c:\n",
    " [len(c)//2:len(c)//2]=[n]\n",
    " print(m)"
   ]
  },
  {
   "cell_type": "code",
   "execution_count": null,
   "metadata": {},
   "outputs": [
    {
     "name": "stdout",
     "output_type": "stream",
     "text": [
      "{1, 2, 3, 4, 5}\n"
     ]
    }
   ],
   "source": [
    "#WAP given value is in given set. IF value is not present concat the value inside the set.\n",
    "n= {1,3,2,4}\n",
    "m = 5\n",
    "if m not in n:\n",
    "    n|={m}\n",
    "    print(n)\n",
    "    "
   ]
  },
  {
   "cell_type": "code",
   "execution_count": null,
   "metadata": {},
   "outputs": [
    {
     "name": "stdout",
     "output_type": "stream",
     "text": [
      "{95: '_'}\n"
     ]
    }
   ],
   "source": [
    "'''WAP to check the given character is special charcter or not and given value's ASCII value is divisible by 5 or not.\n",
    "If it satisfies should store the character with ASCII value into the dictionary'''\n",
    "d= {}\n",
    "j= {}\n",
    "n = '_'\n",
    "m = ord(n)\n",
    "if not( 'A'<=n<='Z' or 'a'<=n<='z') and m%5==0:\n",
    "    d[ord(n)]=n\n",
    "    print(d)\n",
    "\n"
   ]
  },
  {
   "cell_type": "code",
   "execution_count": null,
   "metadata": {},
   "outputs": [
    {
     "name": "stdout",
     "output_type": "stream",
     "text": [
      "6.12\n"
     ]
    }
   ],
   "source": [
    "n = 6.12\n",
    "if n%2==0:\n",
    "    print(n%10)\n",
    "else:\n",
    "    print(n)\n"
   ]
  },
  {
   "cell_type": "code",
   "execution_count": null,
   "metadata": {},
   "outputs": [
    {
     "name": "stdout",
     "output_type": "stream",
     "text": [
      "3\n"
     ]
    }
   ],
   "source": [
    "#Check given number is divisible by 5 and 8. if it satisifies perform right shift 3 and display the result. Else, Extract starting digit.\n",
    "n = 30\n",
    "if  n%5==0 and n%8 == 0:\n",
    "    print(n>>3)\n",
    "else:\n",
    "    print(str(n)[0])\n"
   ]
  },
  {
   "cell_type": "code",
   "execution_count": null,
   "metadata": {},
   "outputs": [
    {
     "name": "stdout",
     "output_type": "stream",
     "text": [
      "]4 ,2 ,1[\n"
     ]
    }
   ],
   "source": [
    "'''#WAP to check the given value is single value or multi value. If it is single value we need to perfrom multiplication with 3.\n",
    "If it is multi value, Convert into string and display its reverse string.'''\n",
    "n = [1,2,4]\n",
    "\n",
    "if type(n) in [list,tuple,set,dict]:\n",
    "    n = str(n)\n",
    "    print(n[-1::-1])\n",
    "else:\n",
    "    print(n*3)"
   ]
  },
  {
   "cell_type": "code",
   "execution_count": null,
   "metadata": {},
   "outputs": [],
   "source": [
    "'''#WAP to check given chracter is alphabet or either special chracter or ASCII number. If it iws an alphabet, Concat the value inside the set.\n",
    "or else append the value inside the dictionary. \"key\" consider as ASCII value of thee given chracter and \"Value\" consider as character.'''\n",
    "n= \"R\"\n",
    "if 'a'<=n<='z' or 'A'\n",
    "\n",
    "#CODE PENDING.....WORKING ON IT."
   ]
  },
  {
   "cell_type": "code",
   "execution_count": null,
   "metadata": {},
   "outputs": [
    {
     "name": "stdout",
     "output_type": "stream",
     "text": [
      "[1, 2]\n"
     ]
    }
   ],
   "source": [
    "'''WAP to check if the given value is present in given list or not. If given value is present in given list then extract half of the list.\n",
    "If value is not present, Concat the value at the middle of the list.'''\n",
    "l=[1,2,3,4,5]\n",
    "n = 5\n",
    "if n in l:\n",
    "    print(l[0:len(l)//2])"
   ]
  },
  {
   "cell_type": "code",
   "execution_count": null,
   "metadata": {},
   "outputs": [
    {
     "name": "stdout",
     "output_type": "stream",
     "text": [
      "First value is greater: 100\n"
     ]
    }
   ],
   "source": [
    "#WAP to find out greatest of two values.\n",
    "a = 100\n",
    "b = 20\n",
    "if a>b:\n",
    "    print(\"First value is greater:\",a)\n",
    "else:\n",
    "    print(\"Second value is greater:\",b)\n"
   ]
  },
  {
   "cell_type": "code",
   "execution_count": null,
   "metadata": {},
   "outputs": [],
   "source": [
    "'''#WAP to check the starting chracter and middle both are sequence or not. \n",
    "If True Both are in sequence, Swap the chracters.Else, Eliminate starting,middle & last chracter'''\n",
    "n = \"abcdefg\"\n",
    "a = ord(n[0])+1\n",
    "b = ord(n[len(n)//2])\n",
    "if a == b:\n",
    "    n=n[len(n//2)]+n[1:len(n)//2]+n[(len(n)+1):]\n",
    "    print(n)\n",
    "\n",
    "#CODE NOT COMPLETED.\n"
   ]
  },
  {
   "cell_type": "code",
   "execution_count": null,
   "metadata": {},
   "outputs": [
    {
     "name": "stdout",
     "output_type": "stream",
     "text": [
      "3\n"
     ]
    }
   ],
   "source": [
    "#WAP to check the given value is list and first, last values are same type of values.If both are same, Eliminate both the values.\n",
    "# Else, Concat both the values.\n",
    "l = [1,2]\n",
    "if l[0]==l[1]:\n",
    "    del l[::]\n",
    "    print(l)\n",
    "else:\n",
    "    m=l[0]+l[1]\n",
    "    print(m)\n",
    "\n",
    "#CODE UNDER CONSTRUCTION."
   ]
  },
  {
   "cell_type": "code",
   "execution_count": null,
   "metadata": {},
   "outputs": [
    {
     "name": "stdout",
     "output_type": "stream",
     "text": [
      "Positive\n"
     ]
    }
   ],
   "source": [
    "'''WAP of given number is positive or negative or neutral. If it is positive display the positive value. If it is negative,\n",
    " display the negative with value or else neutral with value.'''\n",
    "n = eval(input()) #Take any value\n",
    "if n>0:\n",
    "    print(\"Positive\")\n",
    "elif n<0:\n",
    "    print(\"Negative\",n)\n",
    "else:\n",
    "    print(\"neutral\")\n"
   ]
  },
  {
   "cell_type": "code",
   "execution_count": null,
   "metadata": {},
   "outputs": [
    {
     "name": "stdout",
     "output_type": "stream",
     "text": [
      "Good Night\n"
     ]
    }
   ],
   "source": [
    "'''WAP to check given value is divisible by 3 and 5. If condition is satisfied,Display HI. If the given value is divisible by 5,DIsplay \"BUZZ\".\n",
    "If given value is divisible by 3 display \"GN\", If given value is not divisible by 3 and 5, Display GOOD BYE.'''\n",
    "n = 21\n",
    "if n%3==0 and n%5==0:\n",
    "    print(\"HI\")\n",
    "elif n%5==0:\n",
    "    print(\"BUZZ\")\n",
    "elif n%3==0:\n",
    "    print(\"Good Night\")\n",
    "else:\n",
    "    print(\"Good Bye!!!\")"
   ]
  },
  {
   "cell_type": "code",
   "execution_count": null,
   "metadata": {},
   "outputs": [
    {
     "name": "stdout",
     "output_type": "stream",
     "text": [
      "Alphabet\n"
     ]
    }
   ],
   "source": [
    "'''WAP to check, If given chracter is alphabet or special charcter or Ascii number or invalid.\n",
    "If alphabet or special chracter display the special chracter or ascii number  '''\n",
    "n = 'a'\n",
    "if len(n)==1 and 'A'<=n<='Z' or 'a'<=n<='z':\n",
    "    print('Alphabet')\n",
    "elif '0'<=n<='9':\n",
    "    print('ASCII number')\n",
    "elif not('A'<=n<='Z' or 'a'<=n<='z' or '0'<=n<='9'):\n",
    "   print(\"Special Chracter\")\n",
    "else:\n",
    "    print(\"invalid\")\n",
    "\n",
    "#Question Not Gatherd Right."
   ]
  },
  {
   "cell_type": "code",
   "execution_count": null,
   "metadata": {},
   "outputs": [
    {
     "name": "stdout",
     "output_type": "stream",
     "text": [
      "Given number from 1 to 6\n"
     ]
    }
   ],
   "source": [
    "#WAP to perfom the arthematic opetarions based user.\n",
    "'''1 = +\n",
    "2 = -'''\n",
    "o =int(input())\n",
    "a= int(input())\n",
    "b= int(input())\n",
    "if o == 1:\n",
    "    print(a+b)\n",
    "elif o ==2:\n",
    "    print(a-b)\n",
    "elif o ==3:\n",
    "    print(a*b)\n",
    "elif o ==4:\n",
    "    print(a/b)\n",
    "elif o ==5:\n",
    "    print(a%b)\n",
    "elif o ==6:\n",
    "    print(a//b)\n",
    "elif o ==7:\n",
    "    print(a**b)\n",
    "else:\n",
    "    print(\"Given number from 1 to 6\")\n"
   ]
  },
  {
   "cell_type": "code",
   "execution_count": null,
   "metadata": {},
   "outputs": [
    {
     "ename": "SyntaxError",
     "evalue": "expected ':' (904275246.py, line 11)",
     "output_type": "error",
     "traceback": [
      "\u001b[1;36m  Cell \u001b[1;32mIn[78], line 11\u001b[1;36m\u001b[0m\n\u001b[1;33m    elif not('A'<=n<='Z' or 'a'<=n<='z' or '0'<=n<='9')\u001b[0m\n\u001b[1;37m                                                       ^\u001b[0m\n\u001b[1;31mSyntaxError\u001b[0m\u001b[1;31m:\u001b[0m expected ':'\n"
     ]
    }
   ],
   "source": [
    "'''WAP to check given character is upper case. If it is upper case convert it into lower case.\n",
    " If given character is lower case, convert it inyo upper case. If given chracter is ASCII number, display the ASCII value of given character.\n",
    " If given character is special chracter, Display previous chracter given character and next character.'''\n",
    "n = 'a'\n",
    "if 'A'<=n<='Z':\n",
    "    print(chr(ord(n)+32))\n",
    "elif 'a'<=n<='z':\n",
    "    print(chr(ord(n)-32))\n",
    "elif '0'<=n<='9':\n",
    "    print(ord(n))\n",
    "elif not('A'<=n<='Z' or 'a'<=n<='z' or '0'<=n<='9'):\n",
    "    print(ord(n)-1),n,n(ord(n+1))\n",
    "else:\n",
    "    print(\"invalid\")\n"
   ]
  },
  {
   "cell_type": "code",
   "execution_count": null,
   "metadata": {},
   "outputs": [
    {
     "name": "stdout",
     "output_type": "stream",
     "text": [
      "[1]\n"
     ]
    }
   ],
   "source": [
    "'''#WAP to check given value is number data type or not if it is a number, Store the value inside the set. \n",
    "If given value is a sequence data type or not, If sequence perform the replication with 3.\n",
    "If given values are mapping, Convert to sequence data type.\n",
    "If given value is boolean, Convert it into complex.'''\n",
    "s = set()\n",
    "if type(n) in [int,float,complex]:\n",
    "    s|={n}\n",
    "    res = s\n",
    "elif type(n) in [str,list,tuple]:\n",
    "    res = n*3\n",
    "elif type(n) in [set,dict]:\n",
    "    res = list(n)\n",
    "elif type(n) == bool:\n",
    "    res = complex(n)\n",
    "else:\n",
    "    res = 'invalid'\n",
    "print(res)"
   ]
  },
  {
   "cell_type": "code",
   "execution_count": null,
   "metadata": {},
   "outputs": [],
   "source": [
    "'''WAP to check length of the collection is even and it is a list, perfrom deletion operation in list to specific value.\n",
    "If length of the collection is odd and the collection is tuple, perform modification in middle of the tuple.\n",
    "If given collection is set, convert to string.\n",
    "If given collection is dictionary, Extract all the values from the given dictionary.\n",
    "If given collection is more than 2 and less than 50 and it is string, Extract even possition values.'''\n",
    "n = [1,2,3,4,5]\n",
    "if n in [list] and len(n):\n",
    "    del n[5]\n",
    "    print(n)\n",
    "elif n in  [tuple] and len(n):\n",
    "    n[0]= 1\n"
   ]
  },
  {
   "cell_type": "code",
   "execution_count": null,
   "metadata": {},
   "outputs": [
    {
     "name": "stdout",
     "output_type": "stream",
     "text": [
      "Given number is neutral\n"
     ]
    }
   ],
   "source": [
    "'''WAP to check the given number is positive or negative or neutral.\n",
    "If given number is positive. \n",
    "Check the given number is divisible by 3 and 7. If the value if number is not divisible by 3 and 7, Display the cube of the given value. \n",
    "If number is not divisible by 3 and 7, Perform bitwise AND operator with 7. If given number is negative, Perform bitwise NOT operation.\n",
    "If it is neutral, Display given value is neutral.'''\n",
    "n = 0\n",
    "if (n>0):\n",
    "    if n%3==0 and n%7==0:\n",
    "        print(n**3)\n",
    "    else:\n",
    "        res=n&7\n",
    "elif n<0:\n",
    "    res=-n\n",
    "else:\n",
    "    res='Given number is neutral'\n",
    "print(res)\n",
    "    \n"
   ]
  },
  {
   "cell_type": "code",
   "execution_count": null,
   "metadata": {},
   "outputs": [],
   "source": [
    "'''WAP to check the given character is alphabet or special character or ASCII number.\n",
    "If given character is alphabet to check given character is upper case or not. If given character is upper case, \n",
    "Check the character is vowel or not. If given character is upper case\n",
    "'''\n",
    "\n",
    "n = 'a'\n",
    "if 'a'<=n<='z' :\n",
    "\n"
   ]
  },
  {
   "cell_type": "code",
   "execution_count": null,
   "metadata": {},
   "outputs": [
    {
     "name": "stdout",
     "output_type": "stream",
     "text": [
      "1\n",
      "3\n",
      "5\n",
      "7\n"
     ]
    }
   ],
   "source": [
    "for i in range(1,9,2):\n",
    "    print(i)"
   ]
  },
  {
   "cell_type": "code",
   "execution_count": 70,
   "metadata": {},
   "outputs": [
    {
     "name": "stdout",
     "output_type": "stream",
     "text": [
      "1\n"
     ]
    }
   ],
   "source": [
    "#1st occurance.\n",
    "st = 'Rakeshsuggana'\n",
    "a = input(\"user: \")\n",
    "def occur(coll,a):\n",
    "    for i in range(0,len(coll)):\n",
    "        if coll[i]==a:\n",
    "            print(i)\n",
    "            break\n",
    "    else:\n",
    "        print(\"Value is not present\")\n",
    "occur(st,a)"
   ]
  },
  {
   "cell_type": "code",
   "execution_count": 77,
   "metadata": {},
   "outputs": [
    {
     "data": {
      "text/plain": [
       "'Value is not present'"
      ]
     },
     "execution_count": 77,
     "metadata": {},
     "output_type": "execute_result"
    }
   ],
   "source": [
    "#nth occurance.\n",
    "st = 'Rakeshsuggana'\n",
    "a = input(\"user: \")\n",
    "n=int(input('enter a number'))\n",
    "def occur(coll,a,n):\n",
    "    count=0\n",
    "    for i in range(0,len(coll)):\n",
    "        if coll[i]==a:\n",
    "            count+=1\n",
    "            if count==n:\n",
    "                return i\n",
    "    return 'Value is not present'\n",
    "occur(st,a,n)"
   ]
  },
  {
   "cell_type": "code",
   "execution_count": null,
   "metadata": {},
   "outputs": [],
   "source": []
  }
 ],
 "metadata": {
  "kernelspec": {
   "display_name": "Python 3",
   "language": "python",
   "name": "python3"
  },
  "language_info": {
   "codemirror_mode": {
    "name": "ipython",
    "version": 3
   },
   "file_extension": ".py",
   "mimetype": "text/x-python",
   "name": "python",
   "nbconvert_exporter": "python",
   "pygments_lexer": "ipython3",
   "version": "3.11.4"
  },
  "orig_nbformat": 4
 },
 "nbformat": 4,
 "nbformat_minor": 2
}
