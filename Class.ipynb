{
 "cells": [
  {
   "cell_type": "code",
   "execution_count": 10,
   "metadata": {},
   "outputs": [
    {
     "name": "stdout",
     "output_type": "stream",
     "text": [
      "Exceeded\n"
     ]
    }
   ],
   "source": [
    "#WAP to check the given number is divisible by 3 and 7.if both the conditions are satisfied display the cube of the given number.\n",
    "n = eval(input(\"Enter value\"))\n",
    "if type(n) in [int,float] and n% 3==0 and n%7==0:\n",
    "    print(n**3)\n",
    "else:\n",
    "    print(\"Exceeded\")"
   ]
  },
  {
   "cell_type": "code",
   "execution_count": 36,
   "metadata": {},
   "outputs": [
    {
     "name": "stdout",
     "output_type": "stream",
     "text": [
      "wuck\n"
     ]
    }
   ],
   "source": [
    "#WAP to check given number is even or not. If it is even to display half of the given number with out float format.\n",
    "n = eval(input(\"Enter:\"))\n",
    "if n%2==0:\n",
    "    print(n//2)\n",
    "else:\n",
    "    print(\"wuck\")"
   ]
  },
  {
   "cell_type": "code",
   "execution_count": 34,
   "metadata": {},
   "outputs": [
    {
     "name": "stdout",
     "output_type": "stream",
     "text": [
      "Hey Mad Man, Take right input.\n"
     ]
    }
   ],
   "source": [
    "#WAP to check given number is more than 20 and less than 50. if condition satisfies then print ASCII value of it.\n",
    "n = eval(input())\n",
    "if n>20 and n<50:\n",
    "    print(chr(n))\n",
    "else:\n",
    "    print(\"Hey Mad Man, Take right input.\")"
   ]
  },
  {
   "cell_type": "code",
   "execution_count": 50,
   "metadata": {},
   "outputs": [
    {
     "name": "stdout",
     "output_type": "stream",
     "text": [
      "a\n"
     ]
    }
   ],
   "source": [
    "#WAP to check given character is upper case or not. if it is upper case convert it to lower case.\n",
    "n = \"A\"\n",
    "m = ord(n)\n",
    "if m<=90 and m>=65 :\n",
    "    print(chr(m+32))"
   ]
  },
  {
   "cell_type": "code",
   "execution_count": 12,
   "metadata": {},
   "outputs": [
    {
     "name": "stdout",
     "output_type": "stream",
     "text": [
      "['a']\n"
     ]
    }
   ],
   "source": [
    "#WAP to print given chracter is alphabet or not. If it is alphabet store it inside the list.\n",
    "l=[]\n",
    "n= str(input(\"Enter:\"))\n",
    "if type(n) == str and len(n) == 1 and 'A'<=n<='Z' or 'a'<=n<='z':\n",
    "    l+=n\n",
    "    print(l)\n"
   ]
  },
  {
   "cell_type": "code",
   "execution_count": 13,
   "metadata": {},
   "outputs": [
    {
     "name": "stdout",
     "output_type": "stream",
     "text": [
      "niform\n"
     ]
    }
   ],
   "source": [
    "'''WAP to check starting of the character is vowel or not in given string. \n",
    "If it is vowel, we need to eliminate the starting character of the given string.'''\n",
    "n = \"Uniform\"\n",
    "if  n[0] in ['A','E','I','O','U','a','e','i','o','u']:\n",
    "   print (n[1:])"
   ]
  },
  {
   "cell_type": "code",
   "execution_count": 19,
   "metadata": {},
   "outputs": [
    {
     "name": "stdout",
     "output_type": "stream",
     "text": [
      "8\n"
     ]
    }
   ],
   "source": [
    "#WAP to check the given value is present in collection or not if value is preseent we need to concat the value in the middle of the collection.\n",
    "c = [1,2,4,5]\n",
    "n = 4\n",
    "if n in c:\n",
    " [len(c)//2:len(c)//2]=[n]\n",
    " print(m)"
   ]
  },
  {
   "cell_type": "code",
   "execution_count": 23,
   "metadata": {},
   "outputs": [],
   "source": [
    "#WAP given value is in given set. IF value is not present to concat the value inside the set.\n",
    "n= {1,3,2,4}\n",
    "m = 5\n",
    "if m not in n:\n",
    "    n|= {m}"
   ]
  }
 ],
 "metadata": {
  "kernelspec": {
   "display_name": "Python 3",
   "language": "python",
   "name": "python3"
  },
  "language_info": {
   "codemirror_mode": {
    "name": "ipython",
    "version": 3
   },
   "file_extension": ".py",
   "mimetype": "text/x-python",
   "name": "python",
   "nbconvert_exporter": "python",
   "pygments_lexer": "ipython3",
   "version": "3.11.4"
  },
  "orig_nbformat": 4
 },
 "nbformat": 4,
 "nbformat_minor": 2
}
