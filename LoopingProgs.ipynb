{
 "cells": [
  {
   "cell_type": "code",
   "execution_count": 59,
   "metadata": {},
   "outputs": [
    {
     "name": "stdout",
     "output_type": "stream",
     "text": [
      "R\n",
      "a\n",
      "k\n",
      "e\n"
     ]
    }
   ],
   "source": [
    "#1.WAP to print all the items present in the string between the range from m to n.\n",
    "\"\"\"n = 'Rakesh'\n",
    "for i in n:\n",
    "    print(i)\"\"\"\n",
    "\n",
    "m  = 3\n",
    "n  = 0\n",
    "st = 'Rakesh'\n",
    "for i in range(len(st)):\n",
    "    if m<=i<=n:\n",
    "        print(st[i])\n",
    "    elif n<=i<=m:\n",
    "        print(st[i])\n",
    "\n",
    "\n",
    "\n"
   ]
  },
  {
   "cell_type": "code",
   "execution_count": 60,
   "metadata": {},
   "outputs": [
    {
     "name": "stdout",
     "output_type": "stream",
     "text": [
      "R\n",
      "K\n",
      "E\n"
     ]
    }
   ],
   "source": [
    "#2.WAP to print the uppercase characters in a given string.\n",
    "n = 'RaKEsh'\n",
    "for i in n:\n",
    "   if 'A'<=i<='Z':\n",
    "      print(i) "
   ]
  },
  {
   "cell_type": "code",
   "execution_count": 61,
   "metadata": {},
   "outputs": [
    {
     "name": "stdout",
     "output_type": "stream",
     "text": [
      "e\n",
      "d\n"
     ]
    }
   ],
   "source": [
    "#3.WAP to print the lowercase chracters in a given string.\n",
    "n  = 'AHMed'\n",
    "for i in n:\n",
    "    if 'a'<=i<='z':\n",
    "        print(i)"
   ]
  },
  {
   "cell_type": "code",
   "execution_count": 62,
   "metadata": {},
   "outputs": [
    {
     "name": "stdout",
     "output_type": "stream",
     "text": [
      "82\n",
      "97\n",
      "107\n",
      "101\n",
      "115\n",
      "104\n"
     ]
    }
   ],
   "source": [
    "#4.WAP to print the ASCII numbers(digits) characters in a given string.\n",
    "n = 'Rakesh'\n",
    "for i in n:\n",
    "    print(ord(i))"
   ]
  },
  {
   "cell_type": "code",
   "execution_count": 63,
   "metadata": {},
   "outputs": [
    {
     "name": "stdout",
     "output_type": "stream",
     "text": [
      "@\n",
      "$\n"
     ]
    }
   ],
   "source": [
    "#5.WAP to print the special characters in a given string.\n",
    "n = 'R@ke$h'\n",
    "for i in n:\n",
    "    if not('A'<=i<='Z' or 'a'<=i<='z' or '0'<=i<='9'):\n",
    "        print(i)"
   ]
  },
  {
   "cell_type": "code",
   "execution_count": 74,
   "metadata": {},
   "outputs": [
    {
     "name": "stdout",
     "output_type": "stream",
     "text": [
      "A\n",
      "E\n",
      "I\n",
      "O\n"
     ]
    }
   ],
   "source": [
    "#6.WAP to print the vowels in a given string.\n",
    "n = 'RAEIOWS'\n",
    "for i in n:\n",
    "    if i in 'AEIOUaeiou':\n",
    "        print(i)\n",
    "\n"
   ]
  },
  {
   "cell_type": "code",
   "execution_count": 1,
   "metadata": {},
   "outputs": [
    {
     "name": "stdout",
     "output_type": "stream",
     "text": [
      "R\n",
      "W\n",
      "S\n"
     ]
    }
   ],
   "source": [
    "#7.WAP to print consonants in a given string.\n",
    "n = 'RAEIOUWS'\n",
    "for i in n:\n",
    "    if i not in 'AEIOUaeiou':\n",
    "        print(i)"
   ]
  },
  {
   "cell_type": "code",
   "execution_count": 72,
   "metadata": {},
   "outputs": [
    {
     "name": "stdout",
     "output_type": "stream",
     "text": [
      "a\n"
     ]
    }
   ],
   "source": [
    "#jdlaj\n",
    "n  = 'abc'\n",
    "b= len(n)-1\n",
    "while b >=0:\n",
    "    if n[b] in 'AEIOUaeiou':\n",
    "        print(n[b])\n",
    "    b-=1"
   ]
  },
  {
   "cell_type": "code",
   "execution_count": 21,
   "metadata": {},
   "outputs": [
    {
     "name": "stdout",
     "output_type": "stream",
     "text": [
      "hsekaR\n"
     ]
    }
   ],
   "source": [
    "#8.WAP to print the reverse of the characters in a given string.\n",
    "n = 'Rakesh'\n",
    "rev = ''\n",
    "for i in n:\n",
    "    rev=i+rev\n",
    "print(rev)\n"
   ]
  },
  {
   "cell_type": "code",
   "execution_count": 50,
   "metadata": {},
   "outputs": [
    {
     "name": "stdout",
     "output_type": "stream",
     "text": [
      "hsekaR"
     ]
    }
   ],
   "source": [
    "#2nd logic.\n",
    "n = 'Rakesh'\n",
    "for i in n[-1:-(len(n)+1):-1]:\n",
    "    print(i, end=\"\")"
   ]
  },
  {
   "cell_type": "code",
   "execution_count": 56,
   "metadata": {},
   "outputs": [
    {
     "name": "stdout",
     "output_type": "stream",
     "text": [
      "Rks"
     ]
    }
   ],
   "source": [
    "#9.WAP to print even position values in a character.\n",
    "n = 'Rakesh'\n",
    "for i in n[0:len(n):2]:\n",
    "    print(i,end=\"\")\n"
   ]
  },
  {
   "cell_type": "code",
   "execution_count": 57,
   "metadata": {},
   "outputs": [
    {
     "name": "stdout",
     "output_type": "stream",
     "text": [
      "Rks"
     ]
    }
   ],
   "source": [
    "#2nd logic\n",
    "n = 'Rakesh'\n",
    "for i in range(len(n)):\n",
    "    if(i%2)==0:\n",
    "        print(n[i], end = \"\")"
   ]
  },
  {
   "cell_type": "code",
   "execution_count": 58,
   "metadata": {},
   "outputs": [
    {
     "name": "stdout",
     "output_type": "stream",
     "text": [
      "aeh"
     ]
    }
   ],
   "source": [
    "#10.WAP to print odd position values in a character.\n",
    "n = 'Rakesh'\n",
    "for i in n[1:len(n):2]:\n",
    "    print(i, end=\"\")"
   ]
  },
  {
   "cell_type": "code",
   "execution_count": 59,
   "metadata": {},
   "outputs": [
    {
     "name": "stdout",
     "output_type": "stream",
     "text": [
      "aeh"
     ]
    }
   ],
   "source": [
    "#2nd logic\n",
    "n = 'Rakesh'\n",
    "for i in range(len(n)):\n",
    "    if(i%2)!=0:\n",
    "        print(n[i], end = \"\")"
   ]
  },
  {
   "cell_type": "code",
   "execution_count": 65,
   "metadata": {},
   "outputs": [
    {
     "name": "stdout",
     "output_type": "stream",
     "text": [
      "6\n"
     ]
    }
   ],
   "source": [
    "#11.WAP to count the total number of values in a given string(Length function).\n",
    "n = 'Rakesh'\n",
    "print(len(n))"
   ]
  },
  {
   "cell_type": "code",
   "execution_count": 79,
   "metadata": {},
   "outputs": [
    {
     "name": "stdout",
     "output_type": "stream",
     "text": [
      "6\n"
     ]
    }
   ],
   "source": [
    "#12.WAP to count the total number of values in a given string(Without using length function).\n",
    "n = 'Rakesh'\n",
    "count = 0\n",
    "for i in n:\n",
    "    count+=1\n",
    "print(count)"
   ]
  },
  {
   "cell_type": "code",
   "execution_count": 90,
   "metadata": {},
   "outputs": [
    {
     "name": "stdout",
     "output_type": "stream",
     "text": [
      "6\n"
     ]
    }
   ],
   "source": [
    "#13.WAP to count alphabets in a given string.\n",
    "n = 'R1a2k3e4s5h'\n",
    "count= 0\n",
    "for i in n:\n",
    "    if 'A'<=i<='Z' or 'a'<=i<='z':\n",
    "        count+=1\n",
    "print(count)"
   ]
  },
  {
   "cell_type": "code",
   "execution_count": 93,
   "metadata": {},
   "outputs": [
    {
     "name": "stdout",
     "output_type": "stream",
     "text": [
      "1\n"
     ]
    }
   ],
   "source": [
    "#14.WAP to count number of uppercase in a given string.\n",
    "n = 'R1a2k3e4s5h'\n",
    "count= 0\n",
    "for i in n:\n",
    "    if 'A'<=i<='Z':\n",
    "        count+=1\n",
    "print(count)"
   ]
  },
  {
   "cell_type": "code",
   "execution_count": 94,
   "metadata": {},
   "outputs": [
    {
     "name": "stdout",
     "output_type": "stream",
     "text": [
      "5\n"
     ]
    }
   ],
   "source": [
    "#15.WAP to count number of lowercase in a given string.\n",
    "n = 'R1a2k3e4s5h'\n",
    "count= 0\n",
    "for i in n:\n",
    "    if 'a'<=i<='z':\n",
    "        count+=1\n",
    "print(count)"
   ]
  },
  {
   "cell_type": "code",
   "execution_count": 104,
   "metadata": {},
   "outputs": [
    {
     "name": "stdout",
     "output_type": "stream",
     "text": [
      "5\n"
     ]
    }
   ],
   "source": [
    "#16.WAP to count number of special symbols in agiven string.\n",
    "n = 'R1a2k3e4s5h$#*()'\n",
    "count= 0\n",
    "for i in n:\n",
    "    if not('a'<=i<='z' or 'A'<=i<='Z' or '0'<=i<='9'):\n",
    "        count+=1\n",
    "print(count)"
   ]
  },
  {
   "cell_type": "code",
   "execution_count": 108,
   "metadata": {},
   "outputs": [
    {
     "name": "stdout",
     "output_type": "stream",
     "text": [
      "9\n"
     ]
    }
   ],
   "source": [
    "#17.WAP to count uppercase and lowercase in a given string.\n",
    "n = 'RakeshABC'\n",
    "count= 0\n",
    "for i in n:\n",
    "    if 'A'<=i<='Z' or 'a'<=i<='z':\n",
    "        count+=1\n",
    "print(count)"
   ]
  },
  {
   "cell_type": "code",
   "execution_count": 120,
   "metadata": {},
   "outputs": [
    {
     "name": "stdout",
     "output_type": "stream",
     "text": [
      "[1, 2, 47, 57]\n",
      "5\n"
     ]
    }
   ],
   "source": [
    "#18.WAP to count number of ASCII numbers in a given string.\n",
    "n = [1,2,47,57]\n",
    "n = str(n)\n",
    "print(n)\n",
    "for i in n:\n",
    "    if '47'<=i<'57':\n",
    "        print(i)"
   ]
  }
 ],
 "metadata": {
  "kernelspec": {
   "display_name": "Python 3",
   "language": "python",
   "name": "python3"
  },
  "language_info": {
   "codemirror_mode": {
    "name": "ipython",
    "version": 3
   },
   "file_extension": ".py",
   "mimetype": "text/x-python",
   "name": "python",
   "nbconvert_exporter": "python",
   "pygments_lexer": "ipython3",
   "version": "3.11.4"
  },
  "orig_nbformat": 4
 },
 "nbformat": 4,
 "nbformat_minor": 2
}
