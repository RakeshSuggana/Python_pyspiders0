{
 "cells": [
  {
   "cell_type": "code",
   "execution_count": 1,
   "metadata": {},
   "outputs": [
    {
     "name": "stdout",
     "output_type": "stream",
     "text": [
      "R\n",
      "a\n",
      "k\n",
      "e\n"
     ]
    }
   ],
   "source": [
    "#1.WAP to print all the items present in the string between the range from m to n.\n",
    "m  = 3\n",
    "n  = 0\n",
    "st = 'Rakesh'\n",
    "for i in range(len(st)):\n",
    "    if m<=i<=n:\n",
    "        print(st[i])\n",
    "    elif n<=i<=m:\n",
    "        print(st[i])\n",
    "\n",
    "\n",
    "\n"
   ]
  },
  {
   "cell_type": "code",
   "execution_count": 103,
   "metadata": {},
   "outputs": [
    {
     "name": "stdout",
     "output_type": "stream",
     "text": [
      "R\n",
      "K\n",
      "E\n"
     ]
    }
   ],
   "source": [
    "#2.WAP to print the uppercase characters in a given string.\n",
    "n = 'RaKEsh'\n",
    "for i in n:\n",
    "   if 'A'<=i<='Z':\n",
    "      print(i) "
   ]
  },
  {
   "cell_type": "code",
   "execution_count": 104,
   "metadata": {},
   "outputs": [
    {
     "name": "stdout",
     "output_type": "stream",
     "text": [
      "e\n",
      "d\n"
     ]
    }
   ],
   "source": [
    "#3.WAP to print the lowercase chracters in a given string.\n",
    "n  = 'AHMed'\n",
    "for i in n:\n",
    "    if 'a'<=i<='z':\n",
    "        print(i)"
   ]
  },
  {
   "cell_type": "code",
   "execution_count": 105,
   "metadata": {},
   "outputs": [
    {
     "name": "stdout",
     "output_type": "stream",
     "text": [
      "82\n",
      "97\n",
      "107\n",
      "101\n",
      "115\n",
      "104\n"
     ]
    }
   ],
   "source": [
    "#4.WAP to print the ASCII numbers(digits) characters in a given string.\n",
    "n = 'Rakesh'\n",
    "for i in n:\n",
    "    print(ord(i))"
   ]
  },
  {
   "cell_type": "code",
   "execution_count": 106,
   "metadata": {},
   "outputs": [
    {
     "name": "stdout",
     "output_type": "stream",
     "text": [
      "@\n",
      "$\n"
     ]
    }
   ],
   "source": [
    "#5.WAP to print the special characters in a given string.\n",
    "n = 'R@ke$h'\n",
    "for i in n:\n",
    "    if not('A'<=i<='Z' or 'a'<=i<='z' or '0'<=i<='9'):\n",
    "        print(i)"
   ]
  },
  {
   "cell_type": "code",
   "execution_count": 107,
   "metadata": {},
   "outputs": [
    {
     "name": "stdout",
     "output_type": "stream",
     "text": [
      "A\n",
      "E\n",
      "I\n",
      "O\n"
     ]
    }
   ],
   "source": [
    "#6.WAP to print the vowels in a given string.\n",
    "n = 'RAEIOWS'\n",
    "for i in n:\n",
    "    if i in 'AEIOUaeiou':\n",
    "        print(i)\n",
    "\n"
   ]
  },
  {
   "cell_type": "code",
   "execution_count": 108,
   "metadata": {},
   "outputs": [
    {
     "name": "stdout",
     "output_type": "stream",
     "text": [
      "R\n",
      "W\n",
      "S\n"
     ]
    }
   ],
   "source": [
    "#7.WAP to print consonants in a given string.\n",
    "n = 'RAEIOUWS'\n",
    "for i in n:\n",
    "    if i not in 'AEIOUaeiou':\n",
    "        print(i)"
   ]
  },
  {
   "cell_type": "code",
   "execution_count": 112,
   "metadata": {},
   "outputs": [
    {
     "name": "stdout",
     "output_type": "stream",
     "text": [
      "Rks"
     ]
    }
   ],
   "source": [
    "#2nd logic\n",
    "n = 'Rakesh'\n",
    "for i in range(len(n)):\n",
    "    if(i%2)==0:\n",
    "        print(n[i], end = \"\")"
   ]
  },
  {
   "cell_type": "code",
   "execution_count": 113,
   "metadata": {},
   "outputs": [
    {
     "name": "stdout",
     "output_type": "stream",
     "text": [
      "aeh"
     ]
    }
   ],
   "source": [
    "#10.WAP to print odd position values in a character.\n",
    "n = 'Rakesh'\n",
    "for i in n[1:len(n):2]:\n",
    "    print(i, end=\"\")"
   ]
  },
  {
   "cell_type": "code",
   "execution_count": 114,
   "metadata": {},
   "outputs": [
    {
     "name": "stdout",
     "output_type": "stream",
     "text": [
      "aeh"
     ]
    }
   ],
   "source": [
    "#2nd logic\n",
    "n = 'Rakesh'\n",
    "for i in range(len(n)):\n",
    "    if(i%2)!=0:\n",
    "        print(n[i], end = \"\")"
   ]
  },
  {
   "cell_type": "code",
   "execution_count": 115,
   "metadata": {},
   "outputs": [
    {
     "name": "stdout",
     "output_type": "stream",
     "text": [
      "6\n"
     ]
    }
   ],
   "source": [
    "#11.WAP to count the total number of values in a given string(Length function).\n",
    "n = 'Rakesh'\n",
    "print(len(n))"
   ]
  },
  {
   "cell_type": "code",
   "execution_count": 116,
   "metadata": {},
   "outputs": [
    {
     "name": "stdout",
     "output_type": "stream",
     "text": [
      "6\n"
     ]
    }
   ],
   "source": [
    "#12.WAP to count the total number of values in a given string(Without using length function).\n",
    "n = 'Rakesh'\n",
    "count = 0\n",
    "for i in n:\n",
    "    count+=1\n",
    "print(count)"
   ]
  },
  {
   "cell_type": "code",
   "execution_count": 117,
   "metadata": {},
   "outputs": [
    {
     "name": "stdout",
     "output_type": "stream",
     "text": [
      "6\n"
     ]
    }
   ],
   "source": [
    "#13.WAP to count alphabets in a given string.\n",
    "n = 'R1a2k3e4s5h'\n",
    "count= 0\n",
    "for i in n:\n",
    "    if 'A'<=i<='Z' or 'a'<=i<='z':\n",
    "        count+=1\n",
    "print(count)"
   ]
  },
  {
   "cell_type": "code",
   "execution_count": 118,
   "metadata": {},
   "outputs": [
    {
     "name": "stdout",
     "output_type": "stream",
     "text": [
      "1\n"
     ]
    }
   ],
   "source": [
    "#14.WAP to count number of uppercase in a given string.\n",
    "n = 'R1a2k3e4s5h'\n",
    "count= 0\n",
    "for i in n:\n",
    "    if 'A'<=i<='Z':\n",
    "        count+=1\n",
    "print(count)"
   ]
  },
  {
   "cell_type": "code",
   "execution_count": 119,
   "metadata": {},
   "outputs": [
    {
     "name": "stdout",
     "output_type": "stream",
     "text": [
      "5\n"
     ]
    }
   ],
   "source": [
    "#15.WAP to count number of lowercase in a given string.\n",
    "n = 'R1a2k3e4s5h'\n",
    "count= 0\n",
    "for i in n:\n",
    "    if 'a'<=i<='z':\n",
    "        count+=1\n",
    "print(count)"
   ]
  },
  {
   "cell_type": "code",
   "execution_count": 120,
   "metadata": {},
   "outputs": [
    {
     "name": "stdout",
     "output_type": "stream",
     "text": [
      "5\n"
     ]
    }
   ],
   "source": [
    "#16.WAP to count number of special symbols in agiven string.\n",
    "n = 'R1a2k3e4s5h$#*()'\n",
    "count= 0\n",
    "for i in n:\n",
    "    if not('a'<=i<='z' or 'A'<=i<='Z' or '0'<=i<='9'):\n",
    "        count+=1\n",
    "print(count)"
   ]
  },
  {
   "cell_type": "code",
   "execution_count": 121,
   "metadata": {},
   "outputs": [
    {
     "name": "stdout",
     "output_type": "stream",
     "text": [
      "9\n"
     ]
    }
   ],
   "source": [
    "#17.WAP to count uppercase and lowercase in a given string.\n",
    "n = 'RakeshABC'\n",
    "count= 0\n",
    "for i in n:\n",
    "    if 'A'<=i<='Z' or 'a'<=i<='z':\n",
    "        count+=1\n",
    "print(count)"
   ]
  },
  {
   "cell_type": "code",
   "execution_count": 122,
   "metadata": {},
   "outputs": [
    {
     "name": "stdout",
     "output_type": "stream",
     "text": [
      "5\n"
     ]
    }
   ],
   "source": [
    "#18....19 WAP to count number of ASCII numbers in a given string.\n",
    "n = 'Rakesh12345'\n",
    "count=0\n",
    "for i in n:\n",
    "    if '0'<=i<'9':\n",
    "        count+=1\n",
    "print(count)"
   ]
  },
  {
   "cell_type": "code",
   "execution_count": 123,
   "metadata": {},
   "outputs": [
    {
     "name": "stdout",
     "output_type": "stream",
     "text": [
      "6\n"
     ]
    }
   ],
   "source": [
    "#20. WAP to count total number of words in a string.\n",
    "n = 'Rakesh123456'\n",
    "count = 0\n",
    "for i in n:\n",
    "    if 'a'<=i<='z' or 'A'<=i<='Z':\n",
    "        count+=1\n",
    "print(count)"
   ]
  },
  {
   "cell_type": "code",
   "execution_count": 124,
   "metadata": {},
   "outputs": [
    {
     "name": "stdout",
     "output_type": "stream",
     "text": [
      "5\n"
     ]
    }
   ],
   "source": [
    "#21. WAP to count total number of spaces in a given string.\n",
    "n  = 'R a k e s h'\n",
    "count = 0\n",
    "for i in range(len(n)):\n",
    "    if n[i]==' ':\n",
    "        count+=1\n",
    "print(count)\n"
   ]
  },
  {
   "cell_type": "code",
   "execution_count": 125,
   "metadata": {},
   "outputs": [
    {
     "name": "stdout",
     "output_type": "stream",
     "text": [
      "4\n"
     ]
    }
   ],
   "source": [
    "#22. WAP to count vowels in a string.\n",
    "n = 'RAEIOWS'\n",
    "count= 0\n",
    "for i in n:\n",
    "    if i in 'AEIOUaeiou':\n",
    "        count+=1\n",
    "print(count)\n"
   ]
  },
  {
   "cell_type": "code",
   "execution_count": 126,
   "metadata": {},
   "outputs": [
    {
     "name": "stdout",
     "output_type": "stream",
     "text": [
      "3\n"
     ]
    }
   ],
   "source": [
    "#23. WAP to count consonants in a string.\n",
    "n = 'RAEIOWS'\n",
    "count = 0\n",
    "for i in n:\n",
    "    if i not in 'AEIOUaeiou':\n",
    "        count+=1\n",
    "print(count)"
   ]
  },
  {
   "cell_type": "code",
   "execution_count": 127,
   "metadata": {},
   "outputs": [
    {
     "name": "stdout",
     "output_type": "stream",
     "text": [
      "Vowels: 4\n",
      "Consonants: 3\n"
     ]
    }
   ],
   "source": [
    "#24. WAP to count vowels and consonants in a given string.\n",
    "n = 'RAEIOWS'\n",
    "v_count=0\n",
    "c_count = 0\n",
    "for i in n:\n",
    "    if i in 'AEIOUaeiou':\n",
    "        v_count+=1\n",
    "    elif i not in 'AEIOUaeiou':\n",
    "        c_count+=1\n",
    "print('Vowels:',v_count)\n",
    "print('Consonants:',c_count)"
   ]
  },
  {
   "cell_type": "code",
   "execution_count": 128,
   "metadata": {},
   "outputs": [
    {
     "name": "stdout",
     "output_type": "stream",
     "text": [
      "2\n"
     ]
    }
   ],
   "source": [
    "#25. WAP to count number of new lines in a given string.\n",
    "n = \"\"\"Rakesh we have something to do!\n",
    "Thing is push your limits to the very end.\n",
    "And the success is assured.\"\"\"\n",
    "count=0\n",
    "for i in n:\n",
    "    if i == \"\\n\":\n",
    "        count+=1\n",
    "print(count)"
   ]
  },
  {
   "cell_type": "code",
   "execution_count": 129,
   "metadata": {},
   "outputs": [
    {
     "name": "stdout",
     "output_type": "stream",
     "text": [
      "3\n"
     ]
    }
   ],
   "source": [
    "#26. WAP to count number of lines in a given string.\n",
    "st = n = \"\"\"Rakesh we have something to do!\n",
    "Thing is push your limits to the very end.\n",
    "And the success is assured.\"\"\"\n",
    "count=1\n",
    "for i in n:\n",
    "    if i == \"\\n\":\n",
    "        count+=1\n",
    "print(count)"
   ]
  },
  {
   "cell_type": "code",
   "execution_count": 130,
   "metadata": {},
   "outputs": [
    {
     "name": "stdout",
     "output_type": "stream",
     "text": [
      "Number of alphabets 6\n",
      "Number of numbers 3\n",
      "Number of special characters 5\n"
     ]
    }
   ],
   "source": [
    "#27. WAP to count no of alphabets, numbers and special characters in a given string.\n",
    "n = 'Rakesh123!@#$*'\n",
    "count0 = 0\n",
    "count1 = 0\n",
    "count2 = 0\n",
    "for i in n:\n",
    "    if 'a'<=i<='z' or 'A'<=i<='Z':\n",
    "        count0+=1\n",
    "    elif '0'<=i<='9':\n",
    "        count1+=1\n",
    "    else:\n",
    "        count2+=1\n",
    "print(\"Number of alphabets\",count0)\n",
    "print(\"Number of numbers\",count1)\n",
    "print(\"Number of special characters\",count2)"
   ]
  },
  {
   "cell_type": "code",
   "execution_count": null,
   "metadata": {},
   "outputs": [],
   "source": [
    "#28. WAP to count total no of words in a first line of the doc string.\n",
    "st = '''Rakesh we have something to do\n",
    "Thing is push your limits to the very end\n",
    "And the success is assured'''\n",
    "b =''\n",
    "for j in st:\n",
    "    if j!= '\\n':\n",
    "        b+=j\n",
    "    else:\n",
    "        break\n",
    "count = 0\n",
    "a = 0\n",
    "for i in b:\n",
    "    if i!=' ':\n",
    "        a+=1\n",
    "    else:\n",
    "        if a!=0:\n",
    "            count+=1\n",
    "            a = 0\n",
    "if a!=0:\n",
    "    count+=1\n",
    "print(count)        \n"
   ]
  },
  {
   "cell_type": "code",
   "execution_count": 5,
   "metadata": {},
   "outputs": [
    {
     "name": "stdout",
     "output_type": "stream",
     "text": [
      "6\n"
     ]
    }
   ],
   "source": [
    "#29. WAP to sum of digits in a given string.\n",
    "st = \"Rakesh\"\n",
    "for i in range(len(st)):\n",
    "    i+=1\n",
    "print(i)\n"
   ]
  },
  {
   "cell_type": "code",
   "execution_count": 17,
   "metadata": {},
   "outputs": [],
   "source": [
    "#30. WAP to print first occurance of a character in a string.\n",
    "st = '12345Rakesh'\n",
    "for i in st:\n",
    "    if 'a'<=st<='z' or 'A'<=st<='Z':\n",
    "        print(st)\n",
    "    \n"
   ]
  },
  {
   "cell_type": "code",
   "execution_count": null,
   "metadata": {},
   "outputs": [],
   "source": [
    "#31. WAP to print last last occurance of a character of a string."
   ]
  }
 ],
 "metadata": {
  "kernelspec": {
   "display_name": "Python 3",
   "language": "python",
   "name": "python3"
  },
  "language_info": {
   "codemirror_mode": {
    "name": "ipython",
    "version": 3
   },
   "file_extension": ".py",
   "mimetype": "text/x-python",
   "name": "python",
   "nbconvert_exporter": "python",
   "pygments_lexer": "ipython3",
   "version": "3.11.4"
  },
  "orig_nbformat": 4
 },
 "nbformat": 4,
 "nbformat_minor": 2
}
